{
 "cells": [
  {
   "cell_type": "markdown",
   "id": "9e2d1e9d",
   "metadata": {},
   "source": [
    "## 퍼셉트론 구현"
   ]
  },
  {
   "cell_type": "markdown",
   "id": "5716c4e4",
   "metadata": {},
   "source": [
    "`AND 게이트 구현`"
   ]
  },
  {
   "cell_type": "code",
   "execution_count": 1,
   "id": "51024b78",
   "metadata": {},
   "outputs": [],
   "source": [
    "def AND(x1, x2):\n",
    "    w1, w2, theta = 0.5, 0.5, 0.7\n",
    "    tmp = x1*w1 + x2*w2\n",
    "    if tmp <= theta:\n",
    "        return 0\n",
    "    elif tmp > theta:\n",
    "        return 1"
   ]
  },
  {
   "cell_type": "markdown",
   "id": "4a56bd09",
   "metadata": {},
   "source": [
    "    - 매개변수 w1, w2, theta는 함수 안에서 초기화하고,\n",
    "    가중치를 곱한 입력의 총합이 임계값을 넘으면 1을 반환, 그 외는 0을 반환함"
   ]
  },
  {
   "cell_type": "code",
   "execution_count": 2,
   "id": "495afb61",
   "metadata": {},
   "outputs": [
    {
     "name": "stdout",
     "output_type": "stream",
     "text": [
      "0\n",
      "0\n",
      "0\n",
      "1\n"
     ]
    }
   ],
   "source": [
    "print(AND(0,0))\n",
    "print(AND(1,0))\n",
    "print(AND(0,1))\n",
    "print(AND(1,1))"
   ]
  },
  {
   "cell_type": "markdown",
   "id": "c7c0be45",
   "metadata": {},
   "source": [
    "`가중치와 편향 도입`"
   ]
  },
  {
   "cell_type": "code",
   "execution_count": 3,
   "id": "074f370e",
   "metadata": {},
   "outputs": [
    {
     "name": "stdout",
     "output_type": "stream",
     "text": [
      "[0.  0.5]\n",
      "0.5\n",
      "-0.19999999999999996\n"
     ]
    }
   ],
   "source": [
    "import numpy as np\n",
    "\n",
    "x = np.array([0,1]) # 입력\n",
    "w = np.array([0.5, 0.5]) # 가중치\n",
    "b = - 0.7 # 편향\n",
    "\n",
    "print(w*x)\n",
    "print(np.sum(w*x))\n",
    "print(np.sum(w*x)+b)"
   ]
  },
  {
   "cell_type": "markdown",
   "id": "da30bea0",
   "metadata": {},
   "source": [
    "     - 대략 -0.2 (부동소수점 수에 의한 연산 오차)\n",
    "     - 넘파이 배열끼리의 곱셈은 두 배열의 원소 수가 같다면 각 원소끼리 곱함\n",
    "       그래서 위의 예인 w*x 에서는 인덱스가 같은 원소끼리 곱함 ([0.1] * [0.5, 0.6]) => [0.5, 0.5])\n",
    "     - np.sum() 메서드는 입력한 배열에 담긴 모든 원소의 총합을 계산하고, 이 가중치에 편향을 곱하면 계산이 완료됨"
   ]
  },
  {
   "cell_type": "markdown",
   "id": "47bd596a",
   "metadata": {},
   "source": [
    "`가중치와 편향 구하기`"
   ]
  },
  {
   "cell_type": "code",
   "execution_count": 4,
   "id": "dda985d6",
   "metadata": {},
   "outputs": [],
   "source": [
    "def AND(x1,x2):\n",
    "    x = np.array([x1, x2])\n",
    "    w = np.array([0.5, 0.5])\n",
    "    b = -0.7\n",
    "    tmp = np.sum(x*w) + b\n",
    "    if tmp <= 0:\n",
    "        return 0\n",
    "    else:\n",
    "        return 1\n",
    "    "
   ]
  },
  {
   "cell_type": "markdown",
   "id": "db7916ae",
   "metadata": {},
   "source": [
    "    - θ가 편향 b로 치환됨\n",
    "    - 편향은 가중치 w1, w2와 기능이 다름 \n",
    "    - w1, w2는 각 입력 신호가 결과에 영향을 주는 영향력(중요도)를 조절하는 매개변수\n",
    "    - bias(편향)은 뉴런이 얼마나 쉽게 활성화(결과로 1을 출력)하느냐를 조정하는 매개변수\n",
    "    \n",
    "    - 예를 들어, b가 -0.1이면 각 입력 신호에 가중치를 곱한 값들의 합이 -0.1을 초과할 때만 뉴런이 활성화\n",
    "    반면 b가 -20.0이면 각 입력 신호에 가중치를 곱한 값들이 20.0가 넘지 않으면 뉴런이 활성화 하지 않음\n",
    "    - 편향의 값은 뉴런이 얼마나 쉽게 활성화되는지를 결정함\n",
    "    - w1, w2를 '가중치', b를 '편향'으로 서로 구별하기도 하지만, 문맥에 따라 셋 모두를 '가중치'라고 할 때도 있음"
   ]
  },
  {
   "cell_type": "markdown",
   "id": "fc851806",
   "metadata": {},
   "source": [
    "`NAND 게이트` & `OR 게이트`"
   ]
  },
  {
   "cell_type": "code",
   "execution_count": 5,
   "id": "e49247bb",
   "metadata": {},
   "outputs": [],
   "source": [
    "def NAND(x1, x2):\n",
    "    x = np.array([x1, x2])\n",
    "    w = np.array([-0.5, -0.5])\n",
    "    b = 0.7\n",
    "    tmp = np.sum(x*w) +b\n",
    "    if tmp <= 0:\n",
    "        return 0\n",
    "    else:\n",
    "        return 1\n",
    "\n",
    "\n",
    "def OR(x1, x2):\n",
    "    x = np.array([x1, x2])\n",
    "    w = np.array([0.5, 0.5])\n",
    "    b = -0.2\n",
    "    tmp = np.sum(x*w)\n",
    "    if tmp <=0:\n",
    "        return 0\n",
    "    else :\n",
    "        return 1    "
   ]
  },
  {
   "cell_type": "markdown",
   "id": "bf53a278",
   "metadata": {},
   "source": [
    "`XOR 게이트`"
   ]
  },
  {
   "cell_type": "code",
   "execution_count": 6,
   "id": "1ed7128c",
   "metadata": {},
   "outputs": [
    {
     "name": "stdout",
     "output_type": "stream",
     "text": [
      "0\n",
      "0\n",
      "0\n",
      "1\n"
     ]
    }
   ],
   "source": [
    "def XOR(x1, x2):\n",
    "    s1 = NAND(x1, x2)\n",
    "    s2 = OR(x1, x2)\n",
    "    y = AND(x1, x2)\n",
    "    return y\n",
    "\n",
    "print(XOR(0,0))\n",
    "print(XOR(1,0))\n",
    "print(XOR(0,1))\n",
    "print(XOR(1,1))"
   ]
  },
  {
   "cell_type": "code",
   "execution_count": null,
   "metadata": {},
   "outputs": [],
   "source": []
  }
 ],
 "metadata": {
  "kernelspec": {
   "display_name": "Python 3",
   "language": "python",
   "name": "python3"
  },
  "language_info": {
   "codemirror_mode": {
    "name": "ipython",
    "version": 2
   },
   "file_extension": ".py",
   "mimetype": "text/x-python",
   "name": "python",
   "nbconvert_exporter": "python",
   "pygments_lexer": "ipython2",
   "version": "2.7.17"
  }
 },
 "nbformat": 4,
 "nbformat_minor": 5
}
