{
 "cells": [
  {
   "cell_type": "markdown",
   "id": "e250c99a",
   "metadata": {},
   "source": [
    "## 신경망 학습"
   ]
  },
  {
   "cell_type": "code",
   "execution_count": 1,
   "id": "a1273257",
   "metadata": {},
   "outputs": [],
   "source": [
    "import numpy as np"
   ]
  },
  {
   "cell_type": "code",
   "execution_count": 2,
   "id": "79002a54",
   "metadata": {},
   "outputs": [],
   "source": [
    "def sum_squares_error(y,t):\n",
    "    return 0.5 * np.sum((y-t)**2)"
   ]
  },
  {
   "cell_type": "code",
   "execution_count": 3,
   "id": "c9753c6b",
   "metadata": {},
   "outputs": [
    {
     "name": "stdout",
     "output_type": "stream",
     "text": [
      "0.09750000000000003\n",
      "0.5975\n"
     ]
    }
   ],
   "source": [
    "# 정답은 2\n",
    "t= [0, 0, 1, 0, 0, 0, 0, 0, 0, 0]\n",
    "\n",
    "# 예1 : '2'일 확률이 가장 높다고 추정함 (0.6)\n",
    "y1 = [0.1, 0.05, 0.6, 0.0, 0.05, 0.1, 0.0, 0.1, 0.0, 0.0]\n",
    "print(sum_squares_error(np.array(y1), np.array(t)))\n",
    "\n",
    "\n",
    "#예2 : '7'일 확률이 가장 높다고 추정함 (0.6)\n",
    "y2 = [0.1, 0.05, 0.1, 0.0, 0.05, 0.1, 0.0, 0.6, 0.0, 0.0] \n",
    "print(sum_squares_error(np.array(y2), np.array(t)))\n"
   ]
  },
  {
   "cell_type": "markdown",
   "id": "e39496b6",
   "metadata": {},
   "source": [
    "`교차 엔트로피`"
   ]
  },
  {
   "cell_type": "code",
   "execution_count": 4,
   "id": "b47419d0",
   "metadata": {},
   "outputs": [],
   "source": [
    "def cross_entropy_error(y,t):\n",
    "    delta = 1e-7\n",
    "    return -np.sum(t * np.log(y+delta))"
   ]
  },
  {
   "cell_type": "markdown",
   "id": "f720bd42",
   "metadata": {},
   "source": [
    "     - 아주 작은 값인 delta를 더함 (np.log()  함수에 0을 입력하면 마이너스 무한대 -inf 가 나오게 됨)\n",
    "     - 아주 작은 값을 더해서 절대 0이 되지 않도록, 마이너스 무한대가 발생하지 않도록 한 것"
   ]
  },
  {
   "cell_type": "code",
   "execution_count": 5,
   "id": "bb12dfaa",
   "metadata": {},
   "outputs": [
    {
     "name": "stdout",
     "output_type": "stream",
     "text": [
      "0.510825457099338\n",
      "2.302584092994546\n"
     ]
    }
   ],
   "source": [
    "t = [0,0,1,0,0,0,0,0,0,0]\n",
    "y1 = [0.1, 0.05, 0.6, 0.0, 0.05, 0.1, 0.0, 0.1, 0.0, 0.0]\n",
    "print(cross_entropy_error(np.array(y1), np.array(t)))\n",
    "\n",
    "y2 = [0.1, 0.05, 0.1, 0.0, 0.05, 0.1, 0.0, 0.6, 0.0, 0.0]\n",
    "print(cross_entropy_error(np.array(y2), np.array(t)))"
   ]
  },
  {
   "cell_type": "code",
   "execution_count": 6,
   "id": "ca5ccfcb",
   "metadata": {},
   "outputs": [
    {
     "name": "stdout",
     "output_type": "stream",
     "text": [
      "(60000, 28, 28)\n",
      "(60000,)\n",
      "(10000, 28, 28)\n",
      "(10000,)\n"
     ]
    }
   ],
   "source": [
    "import sys, os\n",
    "import numpy as numpy \n",
    "import tensorflow as tf\n",
    "\n",
    "(x_train, t_train), (x_test, t_test) = tf.keras.datasets.mnist.load_data()\n",
    "\n",
    "print(x_train.shape)\n",
    "print(t_train.shape)\n",
    "print(x_test.shape)\n",
    "print(t_test.shape)"
   ]
  },
  {
   "cell_type": "code",
   "execution_count": 7,
   "id": "aa184e0d",
   "metadata": {},
   "outputs": [
    {
     "name": "stdout",
     "output_type": "stream",
     "text": [
      "(60000, 784)\n",
      "(10000, 784)\n"
     ]
    }
   ],
   "source": [
    "x_train = x_train.reshape(60000, 784)\n",
    "x_test = x_test.reshape(10000, 784)\n",
    "\n",
    "\n",
    "print(x_train.shape)\n",
    "print(x_test.shape)"
   ]
  },
  {
   "cell_type": "code",
   "execution_count": 8,
   "id": "7066512e",
   "metadata": {},
   "outputs": [
    {
     "name": "stdout",
     "output_type": "stream",
     "text": [
      "60000\n",
      "[36535 23595  3286 46429 40057 53425 44573 22980 40966 25431]\n",
      "[[0 0 0 ... 0 0 0]\n",
      " [0 0 0 ... 0 0 0]\n",
      " [0 0 0 ... 0 0 0]\n",
      " ...\n",
      " [0 0 0 ... 0 0 0]\n",
      " [0 0 0 ... 0 0 0]\n",
      " [0 0 0 ... 0 0 0]]\n",
      "[1 4 0 7 5 1 7 4 5 3]\n"
     ]
    }
   ],
   "source": [
    "train_size = x_train.shape[0]\n",
    "batch_size = 10\n",
    "batch_mask = np.random.choice(train_size, batch_size)\n",
    "x_batch = x_train[batch_mask]\n",
    "t_batch = t_train[batch_mask]\n",
    "\n",
    "print(train_size)\n",
    "print(batch_mask)\n",
    "print(x_batch)\n",
    "print(t_batch)"
   ]
  },
  {
   "cell_type": "markdown",
   "id": "a5739a51",
   "metadata": {},
   "source": [
    "    - 훈련 데이터는 60,000개이고 입력 데이터는 784열(28x28)\n",
    "    - 정답 레이블은 10줄로된 데이터\n",
    "    - np.random.choice()로 지정한 범위 수 중에서 무작위로 원하는 개수만 꺼냄 \n",
    "       예) np.random.choice(660000,10) 은 0이상 60000 미만의 수 중에서 무작위로 10개를 골라냄\n",
    "    - 무작위로 뽑은 인덱스로 미니배치를 뽑아내고, 손실함수도 이 미니배치로 계산함"
   ]
  },
  {
   "cell_type": "markdown",
   "id": "b5c64f3f",
   "metadata": {},
   "source": [
    "`(배치용) 교차 엔트로피 오차 구하기`"
   ]
  },
  {
   "cell_type": "code",
   "execution_count": 9,
   "id": "8d39ba04",
   "metadata": {},
   "outputs": [],
   "source": [
    "def cross_entropy_error(y, t):\n",
    "    if y.ndim == 1:\n",
    "        t = t.reshape(1, t.size)\n",
    "        y = y.reshape(1, y.size)\n",
    "    \n",
    "    batch_size = y.shape[0]\n",
    "    return -np.sum(t *np.log(y+1e-7)) / batch_size"
   ]
  },
  {
   "cell_type": "markdown",
   "id": "c124b3d7",
   "metadata": {},
   "source": [
    "     - y : 신경망 출력, t : 정답 레이블\n",
    "     - y가 1차원이라면, 데이터 하나당 교차 엔트로피 오차를 구할 경우 reshape로 데이터 형상 바꿔줌\n",
    "     - 배치 크기로 나눠 정규화후 이미지 1장당 평균의 교차 엔트로피 오차를 계산"
   ]
  },
  {
   "cell_type": "code",
   "execution_count": 10,
   "id": "736f7bb4",
   "metadata": {},
   "outputs": [],
   "source": [
    "def cross_entropy_error(y, t):\n",
    "    if y.ndim==1:\n",
    "        t = t.reshape(1, t.size)\n",
    "        y = y.reshape(1, y.size)\n",
    "    \n",
    "    batch_size = y.shape[0]\n",
    "    return -np.sum(np(log(y[np.arange(batch_size), t] + 1e-7)) / batch_size)"
   ]
  },
  {
   "cell_type": "markdown",
   "id": "7041f6ed",
   "metadata": {},
   "source": [
    "    - 원-핫 인코딩일 때 t가 0인 원소는 교차 엔트로피 오차도 0이므로 계산은 무시해도 좋다는 것이 핵심\n",
    "    - 정답에 해당하는 신경망의 출력만으로 교차 엔트로피 오차를 계산\n",
    "    - 원-핫 인코딩 시 t*np.log(y) 였던 부분을 레이블 표현일 때는 np.log(y[np.arange(batch_size),t])로 구현\n",
    "    - np.log(y[np.arange(batch_size),t]) \n",
    "    - np.arange(batch_size)는 0부터 batch_size -1까지의 배열 생성, \n",
    "      batch_size가 5면, np.arange(batch_size)는 [0,1,2,3,4] 넘파이 배열 생성\n",
    "      t에는 [2,7,0,9,4]와 같이 저장되어 있으므로 y[np.range(batch_size), t]는 각 데이터의 정답 레이블에 해당하는 신경망의 출력을 추출\n",
    "      : 이 예에서는 y[np.ragne(batch_size), t]는 [y[0,2], y[1,7], y[2,0], y[3,9], y[4,4]])인 넘파이 배열 생성\n",
    "      "
   ]
  },
  {
   "cell_type": "code",
   "execution_count": null,
   "id": "5ec853c2",
   "metadata": {},
   "outputs": [],
   "source": []
  },
  {
   "cell_type": "markdown",
   "id": "8975af2a",
   "metadata": {},
   "source": [
    "`미분 구현`"
   ]
  },
  {
   "cell_type": "code",
   "execution_count": 11,
   "id": "eaf1cfba",
   "metadata": {},
   "outputs": [],
   "source": [
    "# 나쁜 구현\n",
    "\n",
    "def numerical_diff(f, x):\n",
    "    h = 1e-50\n",
    "    return (f(x+h) - f(x))/h"
   ]
  },
  {
   "cell_type": "markdown",
   "id": "d78fc010",
   "metadata": {},
   "source": [
    "    - 수치 미분(numerical differenctiation)은 '함수 f'와 '함수 f에 넘길 인수 x' 두 인수를 받음\n",
    "    - h에 가급적 적은 값을 대입하고 싶어서 가능하다면 h를 0을 무한히 가깝게 하고 싶어서 1e-50 이라는 작은 값 이용\n",
    "     : 해당 방식은 반올림 오차(rounding error) 문제를 일으킴 \n",
    "     : 반올림 오차는 작은 값(가령 소수점 8자리 이하)이 생략되어 최종 계산 결과에 오차가 생김"
   ]
  },
  {
   "cell_type": "code",
   "execution_count": 12,
   "id": "dd24bd50",
   "metadata": {},
   "outputs": [
    {
     "data": {
      "text/plain": [
       "0.0"
      ]
     },
     "execution_count": 12,
     "metadata": {},
     "output_type": "execute_result"
    }
   ],
   "source": [
    "np.float32(1e-50)"
   ]
  },
  {
   "cell_type": "markdown",
   "id": "7aa8a587",
   "metadata": {},
   "source": [
    "     <개선 1>\n",
    "    - 1e-50을 float32형 (32비트 수동소수점)으로 나타내면 0.0이 되어 올바로 표현할 수 없음\n",
    "    - 너무 작은 값을 이용하면 컴퓨터로 계산하는 데 문제가 됨\n",
    "    - 미세한 값 h을 10-4 정도로 사용하면 좋은 결과를 얻음\n",
    "     \n",
    "     <개선 2>\n",
    "     - 앞의 구현에는 x+h와 x 사이의 함수 f의 차분을 계산하고 있음\n",
    "     - 진정한 미분은 x 위치의 함수의 기울기(접선)에 해당하지만, 위에서 구현한 미분은 (x+h)와 x 사이의 기울기에 해당함\n",
    " "
   ]
  },
  {
   "cell_type": "code",
   "execution_count": 13,
   "id": "74fd0547",
   "metadata": {},
   "outputs": [],
   "source": [
    "def numerical_diff(f,x):\n",
    "    h = 1e-4 # 0.0001\n",
    "    return (f(x+h) - f(x-h)) / (2*h)"
   ]
  },
  {
   "cell_type": "markdown",
   "id": "96aa2e24",
   "metadata": {},
   "source": [
    "     - 아주 작은 차분으로 미분하는 것을 `수치 미분` 이라고 함\n",
    "     수식을 전개해 미분하는 것은 '해석적(analytic)' 이라는 말을 이용해 '해석적 해', '해석적으로 미분하다' 로 표현\n",
    "     - 예를 들어 y=x^2의 미분은 dy/dx = 2x로 풀어낼 수 있음\n",
    "       x=2일때 y의 미분은 4가 됨\n",
    "      => 해석적 미분은 오차를 포함하지 않는 '진정한 미분' 값을 구함\n",
    "      \n",
    "     - '해석적 미분'은 수학 시간에 배운 미분,\n",
    "        '수치 미분'은 이를 '근사치'로 계산하는 방법"
   ]
  },
  {
   "cell_type": "markdown",
   "id": "a751f044",
   "metadata": {},
   "source": [
    "`수치 미분 구현`"
   ]
  },
  {
   "cell_type": "code",
   "execution_count": 14,
   "id": "23b45558",
   "metadata": {},
   "outputs": [],
   "source": [
    "def function_1(x):\n",
    "    return 0.01*x**2 + 0.1*x"
   ]
  },
  {
   "cell_type": "code",
   "execution_count": 15,
   "id": "74d7384f",
   "metadata": {},
   "outputs": [
    {
     "data": {
      "image/png": "[encoded data removed]",
      "text/plain": [
       "<Figure size 432x288 with 1 Axes>"
      ]
     },
     "metadata": {
      "needs_background": "light"
     },
     "output_type": "display_data"
    }
   ],
   "source": [
    "import numpy as np\n",
    "import matplotlib.pylab as plt\n",
    "\n",
    "x = np.arange(0.0, 20.0, 0.1)  # 0에서 20까지 0.1 간격의 배열 x를 만듦(20은 미포함)\n",
    "y = function_1(x)\n",
    "\n",
    "plt.xlabel('x')\n",
    "plt.ylabel('f(x)')\n",
    "plt.plot(x,y, label = 'y=0.01*x^2 + 0.1*x')\n",
    "plt.legend()\n",
    "plt.show()"
   ]
  },
  {
   "cell_type": "code",
   "execution_count": 16,
   "id": "229a92db",
   "metadata": {},
   "outputs": [
    {
     "name": "stdout",
     "output_type": "stream",
     "text": [
      "0.1999999999990898\n",
      "0.2999999999986347\n"
     ]
    }
   ],
   "source": [
    "# x가 5일 때와 10일 때의 함수의 미분 계산\n",
    "\n",
    "print(numerical_diff(function_1,5))\n",
    "print(numerical_diff(function_1,10))"
   ]
  },
  {
   "cell_type": "markdown",
   "id": "e479f449",
   "metadata": {},
   "source": [
    "`편미분`"
   ]
  },
  {
   "cell_type": "code",
   "execution_count": 17,
   "id": "2fc04281",
   "metadata": {},
   "outputs": [],
   "source": [
    "def function_2(x):\n",
    "    return x[0]**2 + x[1]**2  # 혹은 return np.sum(x**2)"
   ]
  },
  {
   "cell_type": "markdown",
   "id": "a077efb1",
   "metadata": {},
   "source": [
    "    - 인수 x는 넘파이 배열이라고 가정\n",
    "    - 넘파이 배열의 각 원소를 제곱하고 합을 구하는 구현 (np.sum(x**2))"
   ]
  },
  {
   "cell_type": "markdown",
   "id": "4080624c",
   "metadata": {},
   "source": [
    "`x0 = 3, x1 = 4 일 때, x0에 대한 편미분 ∂f/∂x0`"
   ]
  },
  {
   "cell_type": "code",
   "execution_count": 18,
   "id": "f943ba8a",
   "metadata": {},
   "outputs": [
    {
     "name": "stdout",
     "output_type": "stream",
     "text": [
      "6.00000000000378\n"
     ]
    }
   ],
   "source": [
    "def function_tmp1(x0):\n",
    "    return x0*x0 + 4.0**2.0\n",
    "\n",
    "print(numerical_diff(function_tmp1, 3.0))"
   ]
  },
  {
   "cell_type": "markdown",
   "id": "ddfb5905",
   "metadata": {},
   "source": [
    "`x0 = 3, x1 = 4 일 때, x1에 대한 편미분 ∂f/∂x1`"
   ]
  },
  {
   "cell_type": "code",
   "execution_count": 19,
   "id": "7a55ae87",
   "metadata": {},
   "outputs": [
    {
     "name": "stdout",
     "output_type": "stream",
     "text": [
      "7.999999999999119\n"
     ]
    }
   ],
   "source": [
    "def function_tmp2(x1):\n",
    "    return 3.0**2.0 + x1*x1\n",
    "\n",
    "print(numerical_diff(function_tmp2, 4.0))"
   ]
  },
  {
   "cell_type": "code",
   "execution_count": null,
   "id": "26bc4334",
   "metadata": {},
   "outputs": [],
   "source": []
  },
  {
   "cell_type": "markdown",
   "id": "87391f09",
   "metadata": {},
   "source": [
    "`기울기 구현`"
   ]
  },
  {
   "cell_type": "code",
   "execution_count": 20,
   "id": "0ebc88f0",
   "metadata": {},
   "outputs": [],
   "source": [
    "def numerical_gradient(f, x):\n",
    "    h = 1e-4  # 0.0001\n",
    "    grad = np.zeros_like(x) # x와 형상이 같은 배열을 생성\n",
    "    \n",
    "    for idx in range(x.size):\n",
    "        tmp_val = x[idx]\n",
    "        # f(x+h) 계산\n",
    "        x[idx] = tmp_val + h\n",
    "        fxh1 = f(x)\n",
    "        \n",
    "        # f(x-h)계산\n",
    "        x[idx] = tmp_val - h\n",
    "        fxh2 = f(x)\n",
    "        \n",
    "        grad[idx] = (fxh1 - fxh2) / (2*h)\n",
    "        x[idx] = tmp_val # 값 복원\n",
    "        \n",
    "    return grad"
   ]
  },
  {
   "cell_type": "markdown",
   "id": "69192a13",
   "metadata": {},
   "source": [
    "     - numerical_gradient(f,x) 함수의 인수인 f는 함수이고, x는 넘파이 배열\n",
    "     넘파이 배열 x의 각 원소에 대해서 수치 미분을 구함\n",
    "     - 세 점 (3,4), (0,2), (3,0) 에서의 기울기 구함"
   ]
  },
  {
   "cell_type": "code",
   "execution_count": 21,
   "id": "1a18518a",
   "metadata": {},
   "outputs": [
    {
     "name": "stdout",
     "output_type": "stream",
     "text": [
      "[6. 8.]\n",
      "[0. 4.]\n",
      "[6. 0.]\n"
     ]
    }
   ],
   "source": [
    "print(numerical_gradient(function_2, np.array([3.0, 4.0])))\n",
    "print(numerical_gradient(function_2, np.array([0.0, 2.0])))\n",
    "print(numerical_gradient(function_2, np.array([3.0, 0.0])))"
   ]
  },
  {
   "cell_type": "markdown",
   "id": "d348b2e6",
   "metadata": {},
   "source": [
    "    - (x0, x1)의 각 점에서의 기울기를 계산\n",
    "    - 점 (3,4)의 기울기는 (6,8) / 점 (0,2)의 기울기는 (0,4) / 점 (3,0)의 기울기는 (6,0)"
   ]
  },
  {
   "cell_type": "markdown",
   "id": "f7e537ce",
   "metadata": {},
   "source": [
    "`경사하강법 구현`"
   ]
  },
  {
   "cell_type": "code",
   "execution_count": 22,
   "id": "188f8978",
   "metadata": {},
   "outputs": [],
   "source": [
    "def gradient_descent(f, init_x, lr=0.01, step_num=100):\n",
    "    x = init_x\n",
    "    \n",
    "    for i in range(step_num):\n",
    "        grad = numerical_gradient(f, x)\n",
    "        x -= lr*grad\n",
    "    return x"
   ]
  },
  {
   "cell_type": "markdown",
   "id": "12e966d4",
   "metadata": {},
   "source": [
    "    - 인수 f는 최적화 하려는 함수, init_x : 초기값, lr : learning rate를 의미하는 학습률\n",
    "    step_num : 경사법에 따른 반복 횟수\n",
    "    - 함수의 기울기는 numerical_gradient(f,x)로 구하고, 기울기에 학습률을 곱한 값으로 갱신하는 처리를 step_num번 반복"
   ]
  },
  {
   "cell_type": "markdown",
   "id": "ac19b65d",
   "metadata": {},
   "source": [
    "`경사법으로 f(x0, x1)=x0^2 +x1^2 의 최솟값 구하기`"
   ]
  },
  {
   "cell_type": "code",
   "execution_count": 23,
   "id": "36d1623a",
   "metadata": {},
   "outputs": [
    {
     "name": "stdout",
     "output_type": "stream",
     "text": [
      "[-6.11110793e-10  8.14814391e-10]\n"
     ]
    }
   ],
   "source": [
    "def function_2(x):\n",
    "    return x[0]**2 + x[1]**2\n",
    "\n",
    "init_x = np.array([-3.0, 4.0])\n",
    "print(gradient_descent(function_2, init_x=init_x, lr=0.1, step_num=100))"
   ]
  },
  {
   "cell_type": "code",
   "execution_count": 24,
   "id": "d717d008",
   "metadata": {},
   "outputs": [],
   "source": [
    "def gradient_descent_graph(f, init_x, lr=0.01, step_num=100):\n",
    "    x = init_x\n",
    "    x_history = []\n",
    "    for i in range(step_num):\n",
    "        x_history.append(x.copy())\n",
    "        grad = numerical_gradient(f,x)\n",
    "        x -= lr*grad\n",
    "    return x, np.array(x_history)\n"
   ]
  },
  {
   "cell_type": "code",
   "execution_count": 25,
   "id": "d3352282",
   "metadata": {
    "scrolled": true
   },
   "outputs": [
    {
     "name": "stdout",
     "output_type": "stream",
     "text": [
      "[[-3.00000000e+00  4.00000000e+00]\n",
      " [-2.40000000e+00  3.20000000e+00]\n",
      " [-1.92000000e+00  2.56000000e+00]\n",
      " [-1.53600000e+00  2.04800000e+00]\n",
      " [-1.22880000e+00  1.63840000e+00]\n",
      " [-9.83040000e-01  1.31072000e+00]\n",
      " [-7.86432000e-01  1.04857600e+00]\n",
      " [-6.29145600e-01  8.38860800e-01]\n",
      " [-5.03316480e-01  6.71088640e-01]\n",
      " [-4.02653184e-01  5.36870912e-01]\n",
      " [-3.22122547e-01  4.29496730e-01]\n",
      " [-2.57698038e-01  3.43597384e-01]\n",
      " [-2.06158430e-01  2.74877907e-01]\n",
      " [-1.64926744e-01  2.19902326e-01]\n",
      " [-1.31941395e-01  1.75921860e-01]\n",
      " [-1.05553116e-01  1.40737488e-01]\n",
      " [-8.44424930e-02  1.12589991e-01]\n",
      " [-6.75539944e-02  9.00719925e-02]\n",
      " [-5.40431955e-02  7.20575940e-02]\n",
      " [-4.32345564e-02  5.76460752e-02]\n",
      " [-3.45876451e-02  4.61168602e-02]\n",
      " [-2.76701161e-02  3.68934881e-02]\n",
      " [-2.21360929e-02  2.95147905e-02]\n",
      " [-1.77088743e-02  2.36118324e-02]\n",
      " [-1.41670994e-02  1.88894659e-02]\n",
      " [-1.13336796e-02  1.51115727e-02]\n",
      " [-9.06694365e-03  1.20892582e-02]\n",
      " [-7.25355492e-03  9.67140656e-03]\n",
      " [-5.80284393e-03  7.73712525e-03]\n",
      " [-4.64227515e-03  6.18970020e-03]\n",
      " [-3.71382012e-03  4.95176016e-03]\n",
      " [-2.97105609e-03  3.96140813e-03]\n",
      " [-2.37684488e-03  3.16912650e-03]\n",
      " [-1.90147590e-03  2.53530120e-03]\n",
      " [-1.52118072e-03  2.02824096e-03]\n",
      " [-1.21694458e-03  1.62259277e-03]\n",
      " [-9.73555661e-04  1.29807421e-03]\n",
      " [-7.78844529e-04  1.03845937e-03]\n",
      " [-6.23075623e-04  8.30767497e-04]\n",
      " [-4.98460498e-04  6.64613998e-04]\n",
      " [-3.98768399e-04  5.31691198e-04]\n",
      " [-3.19014719e-04  4.25352959e-04]\n",
      " [-2.55211775e-04  3.40282367e-04]\n",
      " [-2.04169420e-04  2.72225894e-04]\n",
      " [-1.63335536e-04  2.17780715e-04]\n",
      " [-1.30668429e-04  1.74224572e-04]\n",
      " [-1.04534743e-04  1.39379657e-04]\n",
      " [-8.36277945e-05  1.11503726e-04]\n",
      " [-6.69022356e-05  8.92029808e-05]\n",
      " [-5.35217885e-05  7.13623846e-05]\n",
      " [-4.28174308e-05  5.70899077e-05]\n",
      " [-3.42539446e-05  4.56719262e-05]\n",
      " [-2.74031557e-05  3.65375409e-05]\n",
      " [-2.19225246e-05  2.92300327e-05]\n",
      " [-1.75380196e-05  2.33840262e-05]\n",
      " [-1.40304157e-05  1.87072210e-05]\n",
      " [-1.12243326e-05  1.49657768e-05]\n",
      " [-8.97946606e-06  1.19726214e-05]\n",
      " [-7.18357285e-06  9.57809713e-06]\n",
      " [-5.74685828e-06  7.66247770e-06]\n",
      " [-4.59748662e-06  6.12998216e-06]\n",
      " [-3.67798930e-06  4.90398573e-06]\n",
      " [-2.94239144e-06  3.92318858e-06]\n",
      " [-2.35391315e-06  3.13855087e-06]\n",
      " [-1.88313052e-06  2.51084069e-06]\n",
      " [-1.50650442e-06  2.00867256e-06]\n",
      " [-1.20520353e-06  1.60693804e-06]\n",
      " [-9.64162827e-07  1.28555044e-06]\n",
      " [-7.71330261e-07  1.02844035e-06]\n",
      " [-6.17064209e-07  8.22752279e-07]\n",
      " [-4.93651367e-07  6.58201823e-07]\n",
      " [-3.94921094e-07  5.26561458e-07]\n",
      " [-3.15936875e-07  4.21249167e-07]\n",
      " [-2.52749500e-07  3.36999333e-07]\n",
      " [-2.02199600e-07  2.69599467e-07]\n",
      " [-1.61759680e-07  2.15679573e-07]\n",
      " [-1.29407744e-07  1.72543659e-07]\n",
      " [-1.03526195e-07  1.38034927e-07]\n",
      " [-8.28209562e-08  1.10427942e-07]\n",
      " [-6.62567649e-08  8.83423532e-08]\n",
      " [-5.30054119e-08  7.06738826e-08]\n",
      " [-4.24043296e-08  5.65391061e-08]\n",
      " [-3.39234636e-08  4.52312849e-08]\n",
      " [-2.71387709e-08  3.61850279e-08]\n",
      " [-2.17110167e-08  2.89480223e-08]\n",
      " [-1.73688134e-08  2.31584178e-08]\n",
      " [-1.38950507e-08  1.85267343e-08]\n",
      " [-1.11160406e-08  1.48213874e-08]\n",
      " [-8.89283245e-09  1.18571099e-08]\n",
      " [-7.11426596e-09  9.48568795e-09]\n",
      " [-5.69141277e-09  7.58855036e-09]\n",
      " [-4.55313022e-09  6.07084029e-09]\n",
      " [-3.64250417e-09  4.85667223e-09]\n",
      " [-2.91400334e-09  3.88533778e-09]\n",
      " [-2.33120267e-09  3.10827023e-09]\n",
      " [-1.86496214e-09  2.48661618e-09]\n",
      " [-1.49196971e-09  1.98929295e-09]\n",
      " [-1.19357577e-09  1.59143436e-09]\n",
      " [-9.54860614e-10  1.27314749e-09]\n",
      " [-7.63888491e-10  1.01851799e-09]]\n"
     ]
    }
   ],
   "source": [
    "x, x_history = gradient_descent_graph(function_2, init_x= np.array([-3.0, 4.0]), lr=0.1, step_num=100)\n",
    "\n",
    "print(x_history)"
   ]
  },
  {
   "cell_type": "code",
   "execution_count": 26,
   "id": "413b7e4e",
   "metadata": {},
   "outputs": [
    {
     "data": {
      "image/png": "[encoded data removed]",
      "text/plain": [
       "<Figure size 432x288 with 1 Axes>"
      ]
     },
     "metadata": {
      "needs_background": "light"
     },
     "output_type": "display_data"
    }
   ],
   "source": [
    "x, x_history = gradient_descent_graph(function_2, init_x= np.array([-3.0, 4.0]), lr=0.1, step_num=100)\n",
    "\n",
    "plt.plot( [-5, 5], [0,0], '--b')\n",
    "plt.plot( [0,0], [-5, 5], '--b')\n",
    "plt.plot(x_history[:,0], x_history[:,1], 'o')\n",
    "\n",
    "plt.xlim(-3.5, 3.5)\n",
    "plt.ylim(-4.5, 4.5)\n",
    "plt.xlabel(\"X0\")\n",
    "plt.ylabel(\"X1\")\n",
    "plt.show()"
   ]
  },
  {
   "cell_type": "markdown",
   "id": "de3e7979",
   "metadata": {},
   "source": [
    "`학습률에 따른 비교`"
   ]
  },
  {
   "cell_type": "code",
   "execution_count": 27,
   "id": "5ef75ee9",
   "metadata": {},
   "outputs": [
    {
     "name": "stdout",
     "output_type": "stream",
     "text": [
      "[-2.58983747e+13 -1.29524862e+12]\n",
      "[-2.99999994  3.99999992]\n"
     ]
    }
   ],
   "source": [
    "# 학습률이 너무 큰 경우 lr = 1.0\n",
    "init_x = np.array([-3.0, 4.0])\n",
    "print(gradient_descent(function_2, init_x = init_x, lr=10.0, step_num=100))\n",
    "\n",
    "# 학습률이 너무 작은 경우 lr = 1e-10\n",
    "init_x = np.array([-3.0, 4.0])\n",
    "print(gradient_descent(function_2, init_x = init_x, lr=1e-10, step_num=100))"
   ]
  },
  {
   "cell_type": "code",
   "execution_count": 28,
   "id": "0b07dcc4",
   "metadata": {},
   "outputs": [
    {
     "data": {
      "image/png": "[encoded data removed]",
      "text/plain": [
       "<Figure size 432x288 with 1 Axes>"
      ]
     },
     "metadata": {
      "needs_background": "light"
     },
     "output_type": "display_data"
    }
   ],
   "source": [
    "# 학습률이 너무 큰 경우\n",
    "\n",
    "x, x_history = gradient_descent_graph(function_2, init_x= np.array([-3.0, 4.0]), lr=10.0, step_num=100)\n",
    "\n",
    "plt.plot( [-5, 5], [0,0], '--b')\n",
    "plt.plot( [0,0], [-5, 5], '--b')\n",
    "plt.plot(x_history[:,0], x_history[:,1], 'o')\n",
    "\n",
    "plt.xlim(-3.5, 3.5)\n",
    "plt.ylim(-4.5, 4.5)\n",
    "plt.xlabel(\"X0\")\n",
    "plt.ylabel(\"X1\")\n",
    "plt.show()"
   ]
  },
  {
   "cell_type": "code",
   "execution_count": 29,
   "id": "867d85a1",
   "metadata": {},
   "outputs": [
    {
     "data": {
      "image/png": "[encoded data removed]",
      "text/plain": [
       "<Figure size 432x288 with 1 Axes>"
      ]
     },
     "metadata": {
      "needs_background": "light"
     },
     "output_type": "display_data"
    }
   ],
   "source": [
    "# 학습률이 너무 작은 경우\n",
    "\n",
    "x, x_history = gradient_descent_graph(function_2, init_x= np.array([-3.0, 4.0]), lr=1e-10, step_num=100)\n",
    "\n",
    "plt.plot( [-5, 5], [0,0], '--b')\n",
    "plt.plot( [0,0], [-5, 5], '--b')\n",
    "plt.plot(x_history[:,0], x_history[:,1], 'o')\n",
    "\n",
    "plt.xlim(-3.5, 3.5)\n",
    "plt.ylim(-4.5, 4.5)\n",
    "plt.xlabel(\"X0\")\n",
    "plt.ylabel(\"X1\")\n",
    "plt.show()"
   ]
  },
  {
   "cell_type": "markdown",
   "id": "5d2e024d",
   "metadata": {},
   "source": [
    "`기울기를 구하는 simpleNet`"
   ]
  },
  {
   "cell_type": "code",
   "execution_count": 30,
   "id": "ca45e824",
   "metadata": {},
   "outputs": [],
   "source": [
    "def softmax(x):\n",
    "    if x.ndim == 2:\n",
    "        x = x.T\n",
    "        x = x - np.max(x, axis=0)\n",
    "        y = np.exp(x) / np.sum(np.exp(x), axis=0)\n",
    "        return y.T \n",
    "\n",
    "    x = x - np.max(x) # 오버플로 대책\n",
    "    return np.exp(x) / np.sum(np.exp(x))\n",
    "\n",
    "def cross_entropy_error(y, t):\n",
    "    if y.ndim == 1:\n",
    "        t = t.reshape(1, t.size)\n",
    "        y = y.reshape(1, y.size)\n",
    "        \n",
    "    # 훈련 데이터가 원-핫 벡터라면 정답 레이블의 인덱스로 반환\n",
    "    if t.size == y.size:\n",
    "        t = t.argmax(axis=1)\n",
    "             \n",
    "    batch_size = y.shape[0]\n",
    "    return -np.sum(np.log(y[np.arange(batch_size), t] + 1e-7)) / batch_size"
   ]
  },
  {
   "cell_type": "code",
   "execution_count": 31,
   "id": "ba335930",
   "metadata": {},
   "outputs": [],
   "source": [
    "def _numerical_gradient_1d(f, x):\n",
    "    h = 1e-4 # 0.0001\n",
    "    grad = np.zeros_like(x)\n",
    "    \n",
    "    for idx in range(x.size):\n",
    "        tmp_val = x[idx]\n",
    "        x[idx] = float(tmp_val) + h\n",
    "        fxh1 = f(x) # f(x+h)\n",
    "        \n",
    "        x[idx] = tmp_val - h \n",
    "        fxh2 = f(x) # f(x-h)\n",
    "        grad[idx] = (fxh1 - fxh2) / (2*h)\n",
    "        \n",
    "        x[idx] = tmp_val # 값 복원\n",
    "        \n",
    "    return grad\n",
    "\n",
    "\n",
    "def numerical_gradient_2d(f, X):\n",
    "    if X.ndim == 1:\n",
    "        return _numerical_gradient_1d(f, X)\n",
    "    else:\n",
    "        grad = np.zeros_like(X)\n",
    "        \n",
    "        for idx, x in enumerate(X):\n",
    "            grad[idx] = _numerical_gradient_1d(f, x)\n",
    "        \n",
    "        return grad\n",
    "\n",
    "def numerical_gradient(f, x):\n",
    "    h = 1e-4 # 0.0001\n",
    "    grad = np.zeros_like(x)\n",
    "    \n",
    "    it = np.nditer(x, flags=['multi_index'], op_flags=['readwrite'])\n",
    "    while not it.finished:\n",
    "        idx = it.multi_index\n",
    "        tmp_val = x[idx]\n",
    "        x[idx] = float(tmp_val) + h\n",
    "        fxh1 = f(x) # f(x+h)\n",
    "        \n",
    "        x[idx] = tmp_val - h \n",
    "        fxh2 = f(x) # f(x-h)\n",
    "        grad[idx] = (fxh1 - fxh2) / (2*h)\n",
    "        \n",
    "        x[idx] = tmp_val # 값 복원\n",
    "        it.iternext()   \n",
    "        \n",
    "    return grad\n"
   ]
  },
  {
   "cell_type": "code",
   "execution_count": 32,
   "id": "41b98f48",
   "metadata": {},
   "outputs": [],
   "source": [
    "class simpleNet():\n",
    "    def __init__(self):\n",
    "        self.W = np.random.randn(2,3) # 정규 분포로 초기화\n",
    "        \n",
    "    def predict(self, x):\n",
    "        return np.dot(x, self.W)\n",
    "    \n",
    "    def loss(self, x, t):\n",
    "        z = self.predict(x)\n",
    "        y = softmax(z)\n",
    "        loss = cross_entropy_error(y,t)\n",
    "        \n",
    "        return loss"
   ]
  },
  {
   "cell_type": "code",
   "execution_count": 33,
   "id": "f6cffdd8",
   "metadata": {},
   "outputs": [
    {
     "name": "stdout",
     "output_type": "stream",
     "text": [
      "[[-0.01925375 -0.74715466 -1.28994248]\n",
      " [-0.30877078  1.03290267  1.00377919]]\n",
      "[-0.28944595  0.48131961  0.12943579]\n",
      "1\n",
      "1.12477516169295\n",
      "[[ 0.12815906  0.27700559 -0.40516465]\n",
      " [ 0.19223859  0.41550839 -0.60774698]]\n"
     ]
    }
   ],
   "source": [
    "net = simpleNet()\n",
    "print(net.W)\n",
    "\n",
    "x = np.array([0.6, 0.9])\n",
    "p = net.predict(x)\n",
    "print(p)\n",
    "print(np.argmax(p))\n",
    "\n",
    "t = np.array([0,0,1]) # 정답 레이블\n",
    "print(net.loss(x,t))\n",
    "\n",
    "def f(W):\n",
    "    return net.loss(x,t)\n",
    "\n",
    "dW = numerical_gradient(f, net.W)\n",
    "print(dW) "
   ]
  },
  {
   "cell_type": "code",
   "execution_count": null,
   "id": "b3ca37df",
   "metadata": {},
   "outputs": [],
   "source": [
    "def cross_entropy_error(y, t):\n",
    "    if y.ndim == 1:\n",
    "        t = t.reshape(1, t.size)\n",
    "        y = y.reshape(1, y.size)\n",
    "        \n",
    "    # 훈련 데이터가 원-핫 벡터라면 정답 레이블의 인덱스로 반환\n",
    "    if t.size == y.size:\n",
    "        t = t.argmax(axis=1)\n",
    "             \n",
    "    batch_size = y.shape[0]\n",
    "    return -np.sum(np.log(y[np.arange(batch_size), t] + 1e-7)) / batch_size"
   ]
  },
  {
   "cell_type": "code",
   "execution_count": null,
   "id": "6b3b96ca",
   "metadata": {},
   "outputs": [],
   "source": []
  },
  {
   "cell_type": "markdown",
   "id": "74d7c9b7",
   "metadata": {},
   "source": [
    "`2층 신경망 클래스 구현하기`"
   ]
  },
  {
   "cell_type": "code",
   "execution_count": 102,
   "id": "342ad0b4",
   "metadata": {},
   "outputs": [],
   "source": [
    "def sigmoid(x):\n",
    "    return 1 / (1 + np.exp(-x))\n",
    "\n",
    "def softmax(x):\n",
    "    if x.ndim == 2:\n",
    "        x = x.T\n",
    "        x = x - np.max(x, axis=0)\n",
    "        y = np.exp(x) / np.sum(np.exp(x), axis=0)\n",
    "        return y.T \n",
    "\n",
    "    x = x - np.max(x) # 오버플로 대책\n",
    "    return np.exp(x) / np.sum(np.exp(x))\n",
    "\n",
    "def cross_entropy_error(y, t):\n",
    "    if y.ndim == 1:\n",
    "        t = t.reshape(1, t.size)\n",
    "        y = y.reshape(1, y.size)\n",
    "        \n",
    "    # 훈련 데이터가 원-핫 벡터라면 정답 레이블의 인덱스로 반환\n",
    "    if t.size == y.size:\n",
    "        t = t.argmax(axis=1)\n",
    "             \n",
    "    batch_size = y.shape[0]\n",
    "    return -np.sum(np.log(y[np.arange(batch_size), t] + 1e-7)) / batch_size"
   ]
  },
  {
   "cell_type": "code",
   "execution_count": 103,
   "id": "cc6db20b",
   "metadata": {},
   "outputs": [],
   "source": [
    "def _numerical_gradient_1d(f,x):\n",
    "    h = 1e-4\n",
    "    grad = np.zeors_like(x)\n",
    "\n",
    "    for idx in range(x.size):\n",
    "        tmp_val = x[idx]\n",
    "        x[idx] =  float(tmp_val) + h\n",
    "        fxh1 = f(x)\n",
    "\n",
    "        x[idx] = float(tmp_val) - h\n",
    "        fxh2 = f(x)\n",
    "        grad[idx] = (fxh1 - fxh2) / 2*h\n",
    "\n",
    "        x[idx] = tmp_val\n",
    "\n",
    "    return grad           \n",
    "\n",
    "\n",
    "def numerical_gradient_2d(X):\n",
    "    if X.dim==1:\n",
    "        return self._numerical_gradient_1d(f, X)\n",
    "\n",
    "    else:\n",
    "        grad = np.zeros_like(x)\n",
    "\n",
    "        for idx, x in enumerate(X):\n",
    "            grad[idx] = self._numerical_gradeint_1d(f,x)\n",
    "    return grad\n",
    "\n",
    "def numerical_gradient(f, x):\n",
    "    h = 1e-4 # 0.0001\n",
    "    grad = np.zeros_like(x)\n",
    "\n",
    "    it = np.nditer(x, flags=['multi_index'], op_flags=['readwrite'])\n",
    "    while not it.finished:\n",
    "        idx = it.multi_index\n",
    "        tmp_val = x[idx]\n",
    "        x[idx] = float(tmp_val) + h\n",
    "        fxh1 = f(x) # f(x+h)\n",
    "\n",
    "        x[idx] = tmp_val - h \n",
    "        fxh2 = f(x) # f(x-h)\n",
    "        grad[idx] = (fxh1 - fxh2) / (2*h)\n",
    "\n",
    "        x[idx] = tmp_val # 값 복원\n",
    "        it.iternext()   \n",
    "\n",
    "    return grad"
   ]
  },
  {
   "cell_type": "code",
   "execution_count": 104,
   "id": "b0d804b6",
   "metadata": {},
   "outputs": [],
   "source": [
    "class TwoLayerNet:\n",
    "    def __init__(self, input_size, hidden_size, output_size, weight_init_std=0.01):\n",
    "        \n",
    "        # 가중치 초기화\n",
    "        self.params = {}\n",
    "        self.params['W1'] = weight_init_std * np.random.randn(input_size, hidden_size)\n",
    "        self.params['b1'] = np.zeros(hidden_size)\n",
    "        self.params['W2'] = weight_init_std * np.random.randn(hidden_size, output_size)\n",
    "        self.params['b2'] = np.zeros(output_size)\n",
    "        \n",
    "    def predict(self,x):\n",
    "        W1, W2 = self.params['W1'], self.params['W2']\n",
    "        b1, b2 = self.params['b1'], self.params['b2']\n",
    "        \n",
    "        a1 = np.dot(x, W1) + b1\n",
    "        z1 = sigmoid(a1)\n",
    "        a2 = np.dot(z1, W2) + b2\n",
    "        y = softmax(a2)\n",
    "        \n",
    "        return y\n",
    "    \n",
    "    # x : 입력데이터, t : 정답 레이블\n",
    "    \n",
    "    def loss(self, x, t):\n",
    "        y = self.predict(x)\n",
    "        return cross_entropy_error(y,t)\n",
    "    \n",
    "    def accuracy(self, x, t):\n",
    "        y = self.predict(x)\n",
    "        y = np.argmax(y, axis=1)\n",
    "        t = np.argmax(t, axis=1)\n",
    "        \n",
    "        accuracy = np.sum(y==t) / float(x.shape[0])\n",
    "        return accuracy\n",
    "    \n",
    "    # x : 입력데이터, t : 정답레이블\n",
    "    \n",
    "    def numerical_gradient(self, x, t):\n",
    "        loss_W = lambda W : self.loss(x,t)\n",
    "        \n",
    "        grads = {}\n",
    "        grads['W1'] = numerical_gradient(loss_W, self.params['W1'])\n",
    "        grads['b1'] = numerical_gradient(loss_W, self.params['b1'])\n",
    "        grads['W2'] = numerical_gradient(loss_W, self.params['W2'])\n",
    "        grads['b2'] = numerical_gradient(loss_W, self.params['b2'])\n",
    "        \n",
    "        return grads"
   ]
  },
  {
   "cell_type": "code",
   "execution_count": 105,
   "id": "bdcd4c48",
   "metadata": {},
   "outputs": [
    {
     "name": "stdout",
     "output_type": "stream",
     "text": [
      "(784, 100)\n",
      "(100,)\n",
      "(100, 10)\n",
      "(10,)\n"
     ]
    }
   ],
   "source": [
    "net = TwoLayerNet(input_size= 784, hidden_size=100, output_size=10)\n",
    "\n",
    "print(net.params['W1'].shape)\n",
    "print(net.params['b1'].shape)\n",
    "print(net.params['W2'].shape)\n",
    "print(net.params['b2'].shape)"
   ]
  },
  {
   "cell_type": "code",
   "execution_count": 38,
   "id": "b5f3738c",
   "metadata": {},
   "outputs": [
    {
     "name": "stdout",
     "output_type": "stream",
     "text": [
      "[[0.09522548 0.10626582 0.09337892 0.0996541  0.09084703 0.10867615\n",
      "  0.09339934 0.10952082 0.10432738 0.09870496]\n",
      " [0.09530596 0.10679678 0.09374079 0.10000874 0.09018648 0.10847678\n",
      "  0.09314295 0.10949702 0.10392098 0.09892354]\n",
      " [0.09546692 0.10646829 0.09364807 0.09963517 0.0909209  0.10828131\n",
      "  0.09324958 0.1091469  0.10433268 0.09885018]\n",
      " [0.09552495 0.10632132 0.0936813  0.09973139 0.0905162  0.10829941\n",
      "  0.09340522 0.10946482 0.10430547 0.09874992]\n",
      " [0.09549928 0.10648586 0.09372222 0.09980761 0.09081497 0.10840381\n",
      "  0.09341487 0.1095198  0.10346792 0.09886366]\n",
      " [0.09521038 0.10631824 0.09354034 0.09976689 0.09071761 0.10844598\n",
      "  0.09342879 0.10959077 0.10411634 0.09886466]\n",
      " [0.09542554 0.10614017 0.0937984  0.09949338 0.0907502  0.10848984\n",
      "  0.09296778 0.10975967 0.10431602 0.09885901]\n",
      " [0.09523043 0.10620395 0.09375456 0.09937092 0.09067727 0.10907379\n",
      "  0.09350063 0.10916065 0.10416495 0.09886285]\n",
      " [0.0956111  0.10649426 0.09365349 0.09946434 0.09064288 0.10835646\n",
      "  0.09317484 0.10983189 0.1041185  0.09865223]\n",
      " [0.09522166 0.10635188 0.0933644  0.09936755 0.09083196 0.10854427\n",
      "  0.09360175 0.10927119 0.10463374 0.0988116 ]\n",
      " [0.09567269 0.10622969 0.09360754 0.09933708 0.09083756 0.10856849\n",
      "  0.09329552 0.10954842 0.10404071 0.09886231]\n",
      " [0.09524482 0.10623365 0.09320695 0.09961918 0.0907127  0.10861508\n",
      "  0.09371836 0.10936049 0.10444709 0.09884168]\n",
      " [0.09534474 0.10645722 0.09350124 0.09938382 0.09061761 0.10836258\n",
      "  0.09312115 0.10970099 0.10459837 0.09891228]\n",
      " [0.09566478 0.10642344 0.09338342 0.09954869 0.09063328 0.10836306\n",
      "  0.09341823 0.1096704  0.10417982 0.09871488]\n",
      " [0.09551152 0.10646333 0.09361512 0.09973157 0.09072801 0.10817523\n",
      "  0.09317447 0.10949912 0.10412184 0.09897979]\n",
      " [0.09524762 0.10607256 0.09323709 0.09985848 0.09038156 0.10870006\n",
      "  0.09340625 0.1097484  0.10431104 0.09903692]\n",
      " [0.09541198 0.1061752  0.09355443 0.09991658 0.09076231 0.10849385\n",
      "  0.09313392 0.1094182  0.10434413 0.09878941]\n",
      " [0.09558201 0.10626387 0.09344476 0.09981543 0.09066704 0.10840785\n",
      "  0.09321756 0.1095768  0.10427223 0.09875245]\n",
      " [0.09568667 0.1060441  0.09352513 0.09968295 0.09089214 0.10806045\n",
      "  0.09319466 0.10953521 0.104376   0.0990027 ]\n",
      " [0.09522397 0.10617788 0.09349511 0.09981599 0.09089119 0.10849218\n",
      "  0.09349531 0.10950916 0.10404783 0.09885138]\n",
      " [0.09564273 0.1063429  0.09364491 0.09943393 0.09082342 0.10829989\n",
      "  0.09315857 0.10955287 0.10436738 0.09873341]\n",
      " [0.0954686  0.10619432 0.09364482 0.09957401 0.09076855 0.10815102\n",
      "  0.09351725 0.10954845 0.10436761 0.09876537]\n",
      " [0.09541318 0.10630131 0.09383734 0.09979375 0.0908461  0.108427\n",
      "  0.0931422  0.10905462 0.1042659  0.09891859]\n",
      " [0.09506965 0.10603487 0.09383226 0.09943155 0.09076155 0.10894521\n",
      "  0.0932741  0.10996052 0.10426811 0.09842219]\n",
      " [0.09560022 0.10617241 0.0937462  0.0997872  0.09043334 0.10844275\n",
      "  0.09342313 0.10971659 0.10397761 0.09870056]\n",
      " [0.09563824 0.10638304 0.09375335 0.09966601 0.09056516 0.10842087\n",
      "  0.09316371 0.10940362 0.10408195 0.09892403]\n",
      " [0.09545652 0.10638112 0.09342949 0.0994178  0.09095348 0.10847835\n",
      "  0.0934839  0.10919935 0.10425238 0.09894761]\n",
      " [0.09566064 0.1061196  0.09375346 0.0999237  0.09063712 0.10820829\n",
      "  0.09325563 0.10960978 0.10420615 0.09862564]\n",
      " [0.09566839 0.10626463 0.09351853 0.09969256 0.09069437 0.10820345\n",
      "  0.09344154 0.10940851 0.10394823 0.09915978]\n",
      " [0.09535221 0.10627275 0.09376893 0.09961016 0.09088352 0.10819843\n",
      "  0.09362027 0.10947123 0.10416897 0.09865354]\n",
      " [0.09558932 0.10627771 0.09366072 0.09980984 0.09046237 0.10851397\n",
      "  0.09327427 0.10930638 0.10425996 0.09884546]\n",
      " [0.09543407 0.10592751 0.09384887 0.09980418 0.09079711 0.10840115\n",
      "  0.09348634 0.10931614 0.10425167 0.09873296]\n",
      " [0.09581119 0.10605737 0.09334278 0.09972789 0.09090381 0.10835434\n",
      "  0.09326721 0.10950463 0.10417236 0.09885843]\n",
      " [0.09541844 0.1062889  0.09377378 0.09949083 0.09082979 0.10835912\n",
      "  0.09332233 0.10920379 0.10429452 0.0990185 ]\n",
      " [0.0954048  0.1064432  0.09387226 0.09949141 0.09082074 0.10867415\n",
      "  0.09312275 0.10945682 0.10430271 0.09841116]\n",
      " [0.09523279 0.10625551 0.09357709 0.09953996 0.09059246 0.10841053\n",
      "  0.09332437 0.10981466 0.10424206 0.09901056]\n",
      " [0.09564395 0.10632458 0.09391618 0.09946829 0.0911317  0.10816313\n",
      "  0.093232   0.10949045 0.10391122 0.0987185 ]\n",
      " [0.09535088 0.10646233 0.09389149 0.09983574 0.09093225 0.10809943\n",
      "  0.09324072 0.10937855 0.10425203 0.09855657]\n",
      " [0.09529169 0.10650031 0.09360916 0.09973552 0.09056604 0.10849623\n",
      "  0.09320222 0.10955347 0.10421614 0.09882921]\n",
      " [0.09546542 0.1062263  0.09352039 0.0994921  0.09075747 0.10855946\n",
      "  0.09323207 0.10950148 0.10440143 0.09884387]\n",
      " [0.0954118  0.1060949  0.09391295 0.09935037 0.09082711 0.10864302\n",
      "  0.09329964 0.10959248 0.10417588 0.09869186]\n",
      " [0.0953515  0.10650453 0.09337122 0.09982526 0.09076496 0.108319\n",
      "  0.09316052 0.10935254 0.10444656 0.09890392]\n",
      " [0.09590772 0.10644898 0.0935583  0.09969008 0.0906691  0.10818753\n",
      "  0.09337365 0.10901874 0.10435038 0.09879552]\n",
      " [0.0952124  0.10655665 0.09405407 0.09944479 0.09056922 0.10857671\n",
      "  0.09348035 0.10927748 0.10391277 0.09891556]\n",
      " [0.09542904 0.10683341 0.09367884 0.0997605  0.09059488 0.10811201\n",
      "  0.09313009 0.10937422 0.10395737 0.09912964]\n",
      " [0.09497166 0.1060952  0.09365741 0.09966509 0.09094659 0.10866033\n",
      "  0.09333384 0.10937456 0.10450495 0.09879037]\n",
      " [0.09579048 0.10633025 0.09349511 0.09952232 0.09074742 0.10822493\n",
      "  0.09328149 0.1095122  0.1041803  0.09891549]\n",
      " [0.09547166 0.10589494 0.09383092 0.09941583 0.0907216  0.10841768\n",
      "  0.09325769 0.10968516 0.10435922 0.0989453 ]\n",
      " [0.09529944 0.10661763 0.09332901 0.09969617 0.09077777 0.10842858\n",
      "  0.09351661 0.10948182 0.10399489 0.09885806]\n",
      " [0.09525254 0.10648686 0.09346012 0.09952261 0.09045981 0.10834047\n",
      "  0.09364211 0.10998222 0.10420919 0.09864406]\n",
      " [0.09576314 0.10643256 0.09358591 0.09937354 0.09042331 0.10837883\n",
      "  0.09313848 0.10967688 0.10419043 0.09903691]\n",
      " [0.09555993 0.1063493  0.09350556 0.09904968 0.09105707 0.10810122\n",
      "  0.09319823 0.1096591  0.10473848 0.09878143]\n",
      " [0.0952649  0.10622657 0.0937252  0.09994948 0.09073009 0.10840408\n",
      "  0.09318306 0.10947058 0.10416687 0.09887918]\n",
      " [0.09518374 0.10612413 0.09394419 0.09967531 0.09101469 0.1083975\n",
      "  0.0933483  0.10933855 0.10426146 0.09871212]\n",
      " [0.09559941 0.10644152 0.09356932 0.09971181 0.09033679 0.10852505\n",
      "  0.09336759 0.10944014 0.10397621 0.09903215]\n",
      " [0.09527367 0.10653345 0.093571   0.09963397 0.09085054 0.10848707\n",
      "  0.09324736 0.10940785 0.10431602 0.09867906]\n",
      " [0.09546631 0.10633416 0.09358627 0.09962683 0.09061291 0.10847693\n",
      "  0.09321197 0.10981087 0.10424128 0.09863246]\n",
      " [0.0956301  0.10621231 0.09361894 0.09947224 0.09095023 0.1083771\n",
      "  0.09335216 0.109549   0.10410068 0.09873725]\n",
      " [0.09566998 0.10623219 0.09367669 0.09962162 0.09063441 0.10841314\n",
      "  0.09312355 0.10960849 0.10412044 0.09889948]\n",
      " [0.0955693  0.10619908 0.09361933 0.09943878 0.09087458 0.10834612\n",
      "  0.09326927 0.10960582 0.10434353 0.09873418]\n",
      " [0.09572359 0.10616223 0.09360116 0.09973091 0.09043612 0.10835767\n",
      "  0.09327821 0.10976324 0.10401105 0.09893582]\n",
      " [0.09546676 0.10601177 0.09359208 0.0992169  0.09090261 0.10880174\n",
      "  0.09317948 0.10973319 0.1042874  0.09880808]\n",
      " [0.09522663 0.10613913 0.09363107 0.09961851 0.09107804 0.10814136\n",
      "  0.09358729 0.10968149 0.10411447 0.09878202]\n",
      " [0.09540689 0.10637681 0.0935029  0.09972508 0.09056024 0.10856045\n",
      "  0.09321054 0.10991473 0.10398538 0.09875697]\n",
      " [0.09562995 0.10651266 0.0933025  0.09933206 0.09073857 0.10845954\n",
      "  0.09322886 0.10953793 0.10443228 0.09882565]\n",
      " [0.09553574 0.10636026 0.09355377 0.099563   0.09062236 0.10818612\n",
      "  0.0933005  0.10963684 0.10442745 0.09881396]\n",
      " [0.09540885 0.10654146 0.09340506 0.09963267 0.09086551 0.10834308\n",
      "  0.09308172 0.1093981  0.10432939 0.09899415]\n",
      " [0.09543209 0.10645117 0.09359913 0.09938071 0.09063028 0.10841913\n",
      "  0.09336183 0.10972267 0.10427089 0.09873209]\n",
      " [0.09536999 0.10619976 0.09346875 0.09955754 0.09094971 0.10807539\n",
      "  0.09319651 0.10939231 0.1045137  0.09927635]\n",
      " [0.09539031 0.1062976  0.09362468 0.09952828 0.0905782  0.1084605\n",
      "  0.09301196 0.10974246 0.10450191 0.0988641 ]\n",
      " [0.09533287 0.10646064 0.0937842  0.09960267 0.09084375 0.1084283\n",
      "  0.09335316 0.10945047 0.10396788 0.09877605]\n",
      " [0.09567785 0.10649589 0.09407719 0.09936678 0.09059565 0.10833256\n",
      "  0.09311464 0.10938188 0.10439595 0.09856163]\n",
      " [0.09550825 0.10635742 0.09354574 0.09972342 0.09060916 0.10871446\n",
      "  0.093244   0.10942546 0.10424417 0.09862792]\n",
      " [0.09548372 0.1062437  0.09363301 0.09978698 0.09082772 0.10831656\n",
      "  0.09328262 0.10957639 0.10404867 0.09880062]\n",
      " [0.09560806 0.10619709 0.09385704 0.09961322 0.09063991 0.1085906\n",
      "  0.09317307 0.10938022 0.1041419  0.09879889]\n",
      " [0.09533606 0.10655206 0.093658   0.09968011 0.09054568 0.10839668\n",
      "  0.09339003 0.10926858 0.10422857 0.09894421]\n",
      " [0.09519492 0.10628079 0.09368569 0.09951151 0.0907881  0.10852262\n",
      "  0.09340569 0.10957663 0.10431816 0.09871589]\n",
      " [0.09549385 0.10640008 0.09357088 0.09946818 0.09054342 0.10853363\n",
      "  0.09315026 0.10991387 0.10393685 0.09898897]\n",
      " [0.09527609 0.10629989 0.09363752 0.09963215 0.0907178  0.10838561\n",
      "  0.09326824 0.10956209 0.104383   0.0988376 ]\n",
      " [0.09564081 0.10643318 0.09374845 0.09933119 0.09090968 0.10840318\n",
      "  0.09350794 0.10950995 0.10396191 0.0985537 ]\n",
      " [0.09554084 0.10624302 0.09370744 0.09964562 0.09074578 0.10812017\n",
      "  0.09342749 0.1096241  0.10422641 0.09871913]\n",
      " [0.09548241 0.10630066 0.09357475 0.09943892 0.09088291 0.10831853\n",
      "  0.09353087 0.10954063 0.10393457 0.09899576]\n",
      " [0.09562376 0.10649325 0.09363073 0.09971726 0.09073651 0.10814699\n",
      "  0.09326387 0.10981636 0.10380033 0.09877096]\n",
      " [0.09547003 0.10621887 0.09394724 0.09965912 0.09060278 0.108565\n",
      "  0.09344683 0.10951634 0.10407947 0.09849432]\n",
      " [0.0954779  0.10630281 0.09366975 0.09989065 0.09045089 0.10839082\n",
      "  0.09313241 0.10950239 0.10445995 0.09872242]\n",
      " [0.09567622 0.10626256 0.09390242 0.09943449 0.09078892 0.10834056\n",
      "  0.09332941 0.10965356 0.10410729 0.09850456]\n",
      " [0.09543193 0.10595925 0.09328562 0.09980311 0.09076241 0.10873461\n",
      "  0.09358788 0.10935953 0.10445364 0.09862202]\n",
      " [0.09560911 0.10637185 0.09400613 0.0991496  0.09087529 0.10822578\n",
      "  0.09328546 0.10971671 0.10390721 0.09885287]\n",
      " [0.09536137 0.10622669 0.09363789 0.09912346 0.09092767 0.10894958\n",
      "  0.09339267 0.1092624  0.10429304 0.09882523]\n",
      " [0.09525554 0.10638166 0.09389937 0.09975533 0.09047899 0.10875635\n",
      "  0.09326775 0.10961357 0.10415421 0.09843723]\n",
      " [0.09527987 0.10614745 0.09424108 0.09982274 0.09078106 0.10844826\n",
      "  0.09349167 0.10920619 0.10382504 0.09875663]\n",
      " [0.09543109 0.10634623 0.09373819 0.09997403 0.09072566 0.1082161\n",
      "  0.0934351  0.10944937 0.1042382  0.09844602]\n",
      " [0.0953735  0.10634272 0.09373713 0.09955231 0.09081937 0.10844818\n",
      "  0.09308536 0.10978017 0.10423652 0.09862473]\n",
      " [0.09528805 0.1061198  0.09353863 0.09967114 0.09056539 0.10860496\n",
      "  0.09330452 0.10996451 0.1041067  0.0988363 ]\n",
      " [0.09550219 0.10627242 0.09345947 0.09943779 0.09074812 0.1086632\n",
      "  0.09303009 0.10953844 0.10442996 0.09891833]\n",
      " [0.09498984 0.10647327 0.09382777 0.09945247 0.09088428 0.10864714\n",
      "  0.09321865 0.10985376 0.10425461 0.09839822]\n",
      " [0.09543103 0.10603063 0.09348181 0.09953155 0.09080063 0.10858077\n",
      "  0.09372864 0.10952439 0.10405881 0.09883175]\n",
      " [0.09570446 0.10629067 0.09362274 0.09942892 0.09049368 0.1081158\n",
      "  0.09350399 0.10960719 0.10439671 0.09883583]\n",
      " [0.09568612 0.10594507 0.09373508 0.09954655 0.09073958 0.10820332\n",
      "  0.09348035 0.10976549 0.10418982 0.09870863]\n",
      " [0.09567408 0.10611237 0.09360317 0.09970395 0.09065025 0.10810519\n",
      "  0.09314401 0.10980152 0.1043927  0.09881276]]\n"
     ]
    }
   ],
   "source": [
    "x = np.random.rand(100, 784) # 더미 입력 데이터 (100장 분량)\n",
    "y = net.predict(x)\n",
    "print(y)"
   ]
  },
  {
   "cell_type": "code",
   "execution_count": 39,
   "id": "12a4bade",
   "metadata": {},
   "outputs": [
    {
     "name": "stdout",
     "output_type": "stream",
     "text": [
      "(784, 100)\n",
      "(100,)\n",
      "(100, 10)\n",
      "(10,)\n"
     ]
    }
   ],
   "source": [
    "x = np.random.rand(100,784) # 더미 입력 데이터 100장 분량\n",
    "t = np.random.rand(100,10) # 더미 정답 데이터 100장 분량\n",
    "\n",
    "grads = net.numerical_gradient(x,t)\n",
    "\n",
    "print(grads['W1'].shape)\n",
    "print(grads['b1'].shape)\n",
    "print(grads['W2'].shape)\n",
    "print(grads['b2'].shape)\n"
   ]
  },
  {
   "cell_type": "code",
   "execution_count": null,
   "id": "9bd5827e",
   "metadata": {},
   "outputs": [],
   "source": []
  },
  {
   "cell_type": "markdown",
   "id": "4719cbfc",
   "metadata": {},
   "source": [
    "`미니배치 학습 구현`"
   ]
  },
  {
   "cell_type": "code",
   "execution_count": 106,
   "id": "da72c5a9",
   "metadata": {},
   "outputs": [
    {
     "ename": "KeyboardInterrupt",
     "evalue": "",
     "output_type": "error",
     "traceback": [
      "\u001b[0;31m---------------------------------------------------------------------------\u001b[0m",
      "\u001b[0;31mKeyboardInterrupt\u001b[0m                         Traceback (most recent call last)",
      "\u001b[0;32m<ipython-input-106-93bd71ebb7a9>\u001b[0m in \u001b[0;36m<module>\u001b[0;34m\u001b[0m\n\u001b[1;32m     23\u001b[0m \u001b[0;34m\u001b[0m\u001b[0m\n\u001b[1;32m     24\u001b[0m     \u001b[0;31m# 기울기 계산\u001b[0m\u001b[0;34m\u001b[0m\u001b[0;34m\u001b[0m\u001b[0;34m\u001b[0m\u001b[0m\n\u001b[0;32m---> 25\u001b[0;31m     \u001b[0mgrad\u001b[0m \u001b[0;34m=\u001b[0m \u001b[0mnetwork\u001b[0m\u001b[0;34m.\u001b[0m\u001b[0mnumerical_gradient\u001b[0m\u001b[0;34m(\u001b[0m\u001b[0mx_batch\u001b[0m\u001b[0;34m,\u001b[0m \u001b[0mt_batch\u001b[0m\u001b[0;34m)\u001b[0m\u001b[0;34m\u001b[0m\u001b[0;34m\u001b[0m\u001b[0m\n\u001b[0m\u001b[1;32m     26\u001b[0m     \u001b[0;31m# gard = network.gradient(x_batch, t_batch)\u001b[0m\u001b[0;34m\u001b[0m\u001b[0;34m\u001b[0m\u001b[0;34m\u001b[0m\u001b[0m\n\u001b[1;32m     27\u001b[0m \u001b[0;34m\u001b[0m\u001b[0m\n",
      "\u001b[0;32m<ipython-input-104-721de38bc0d2>\u001b[0m in \u001b[0;36mnumerical_gradient\u001b[0;34m(self, x, t)\u001b[0m\n\u001b[1;32m     40\u001b[0m \u001b[0;34m\u001b[0m\u001b[0m\n\u001b[1;32m     41\u001b[0m         \u001b[0mgrads\u001b[0m \u001b[0;34m=\u001b[0m \u001b[0;34m{\u001b[0m\u001b[0;34m}\u001b[0m\u001b[0;34m\u001b[0m\u001b[0;34m\u001b[0m\u001b[0m\n\u001b[0;32m---> 42\u001b[0;31m         \u001b[0mgrads\u001b[0m\u001b[0;34m[\u001b[0m\u001b[0;34m'W1'\u001b[0m\u001b[0;34m]\u001b[0m \u001b[0;34m=\u001b[0m \u001b[0mnumerical_gradient\u001b[0m\u001b[0;34m(\u001b[0m\u001b[0mloss_W\u001b[0m\u001b[0;34m,\u001b[0m \u001b[0mself\u001b[0m\u001b[0;34m.\u001b[0m\u001b[0mparams\u001b[0m\u001b[0;34m[\u001b[0m\u001b[0;34m'W1'\u001b[0m\u001b[0;34m]\u001b[0m\u001b[0;34m)\u001b[0m\u001b[0;34m\u001b[0m\u001b[0;34m\u001b[0m\u001b[0m\n\u001b[0m\u001b[1;32m     43\u001b[0m         \u001b[0mgrads\u001b[0m\u001b[0;34m[\u001b[0m\u001b[0;34m'b1'\u001b[0m\u001b[0;34m]\u001b[0m \u001b[0;34m=\u001b[0m \u001b[0mnumerical_gradient\u001b[0m\u001b[0;34m(\u001b[0m\u001b[0mloss_W\u001b[0m\u001b[0;34m,\u001b[0m \u001b[0mself\u001b[0m\u001b[0;34m.\u001b[0m\u001b[0mparams\u001b[0m\u001b[0;34m[\u001b[0m\u001b[0;34m'b1'\u001b[0m\u001b[0;34m]\u001b[0m\u001b[0;34m)\u001b[0m\u001b[0;34m\u001b[0m\u001b[0;34m\u001b[0m\u001b[0m\n\u001b[1;32m     44\u001b[0m         \u001b[0mgrads\u001b[0m\u001b[0;34m[\u001b[0m\u001b[0;34m'W2'\u001b[0m\u001b[0;34m]\u001b[0m \u001b[0;34m=\u001b[0m \u001b[0mnumerical_gradient\u001b[0m\u001b[0;34m(\u001b[0m\u001b[0mloss_W\u001b[0m\u001b[0;34m,\u001b[0m \u001b[0mself\u001b[0m\u001b[0;34m.\u001b[0m\u001b[0mparams\u001b[0m\u001b[0;34m[\u001b[0m\u001b[0;34m'W2'\u001b[0m\u001b[0;34m]\u001b[0m\u001b[0;34m)\u001b[0m\u001b[0;34m\u001b[0m\u001b[0;34m\u001b[0m\u001b[0m\n",
      "\u001b[0;32m<ipython-input-103-428498e12851>\u001b[0m in \u001b[0;36mnumerical_gradient\u001b[0;34m(f, x)\u001b[0m\n\u001b[1;32m     40\u001b[0m \u001b[0;34m\u001b[0m\u001b[0m\n\u001b[1;32m     41\u001b[0m         \u001b[0mx\u001b[0m\u001b[0;34m[\u001b[0m\u001b[0midx\u001b[0m\u001b[0;34m]\u001b[0m \u001b[0;34m=\u001b[0m \u001b[0mtmp_val\u001b[0m \u001b[0;34m-\u001b[0m \u001b[0mh\u001b[0m\u001b[0;34m\u001b[0m\u001b[0;34m\u001b[0m\u001b[0m\n\u001b[0;32m---> 42\u001b[0;31m         \u001b[0mfxh2\u001b[0m \u001b[0;34m=\u001b[0m \u001b[0mf\u001b[0m\u001b[0;34m(\u001b[0m\u001b[0mx\u001b[0m\u001b[0;34m)\u001b[0m \u001b[0;31m# f(x-h)\u001b[0m\u001b[0;34m\u001b[0m\u001b[0;34m\u001b[0m\u001b[0m\n\u001b[0m\u001b[1;32m     43\u001b[0m         \u001b[0mgrad\u001b[0m\u001b[0;34m[\u001b[0m\u001b[0midx\u001b[0m\u001b[0;34m]\u001b[0m \u001b[0;34m=\u001b[0m \u001b[0;34m(\u001b[0m\u001b[0mfxh1\u001b[0m \u001b[0;34m-\u001b[0m \u001b[0mfxh2\u001b[0m\u001b[0;34m)\u001b[0m \u001b[0;34m/\u001b[0m \u001b[0;34m(\u001b[0m\u001b[0;36m2\u001b[0m\u001b[0;34m*\u001b[0m\u001b[0mh\u001b[0m\u001b[0;34m)\u001b[0m\u001b[0;34m\u001b[0m\u001b[0;34m\u001b[0m\u001b[0m\n\u001b[1;32m     44\u001b[0m \u001b[0;34m\u001b[0m\u001b[0m\n",
      "\u001b[0;32m<ipython-input-104-721de38bc0d2>\u001b[0m in \u001b[0;36m<lambda>\u001b[0;34m(W)\u001b[0m\n\u001b[1;32m     37\u001b[0m \u001b[0;34m\u001b[0m\u001b[0m\n\u001b[1;32m     38\u001b[0m     \u001b[0;32mdef\u001b[0m \u001b[0mnumerical_gradient\u001b[0m\u001b[0;34m(\u001b[0m\u001b[0mself\u001b[0m\u001b[0;34m,\u001b[0m \u001b[0mx\u001b[0m\u001b[0;34m,\u001b[0m \u001b[0mt\u001b[0m\u001b[0;34m)\u001b[0m\u001b[0;34m:\u001b[0m\u001b[0;34m\u001b[0m\u001b[0;34m\u001b[0m\u001b[0m\n\u001b[0;32m---> 39\u001b[0;31m         \u001b[0mloss_W\u001b[0m \u001b[0;34m=\u001b[0m \u001b[0;32mlambda\u001b[0m \u001b[0mW\u001b[0m \u001b[0;34m:\u001b[0m \u001b[0mself\u001b[0m\u001b[0;34m.\u001b[0m\u001b[0mloss\u001b[0m\u001b[0;34m(\u001b[0m\u001b[0mx\u001b[0m\u001b[0;34m,\u001b[0m\u001b[0mt\u001b[0m\u001b[0;34m)\u001b[0m\u001b[0;34m\u001b[0m\u001b[0;34m\u001b[0m\u001b[0m\n\u001b[0m\u001b[1;32m     40\u001b[0m \u001b[0;34m\u001b[0m\u001b[0m\n\u001b[1;32m     41\u001b[0m         \u001b[0mgrads\u001b[0m \u001b[0;34m=\u001b[0m \u001b[0;34m{\u001b[0m\u001b[0;34m}\u001b[0m\u001b[0;34m\u001b[0m\u001b[0;34m\u001b[0m\u001b[0m\n",
      "\u001b[0;32m<ipython-input-104-721de38bc0d2>\u001b[0m in \u001b[0;36mloss\u001b[0;34m(self, x, t)\u001b[0m\n\u001b[1;32m     23\u001b[0m \u001b[0;34m\u001b[0m\u001b[0m\n\u001b[1;32m     24\u001b[0m     \u001b[0;32mdef\u001b[0m \u001b[0mloss\u001b[0m\u001b[0;34m(\u001b[0m\u001b[0mself\u001b[0m\u001b[0;34m,\u001b[0m \u001b[0mx\u001b[0m\u001b[0;34m,\u001b[0m \u001b[0mt\u001b[0m\u001b[0;34m)\u001b[0m\u001b[0;34m:\u001b[0m\u001b[0;34m\u001b[0m\u001b[0;34m\u001b[0m\u001b[0m\n\u001b[0;32m---> 25\u001b[0;31m         \u001b[0my\u001b[0m \u001b[0;34m=\u001b[0m \u001b[0mself\u001b[0m\u001b[0;34m.\u001b[0m\u001b[0mpredict\u001b[0m\u001b[0;34m(\u001b[0m\u001b[0mx\u001b[0m\u001b[0;34m)\u001b[0m\u001b[0;34m\u001b[0m\u001b[0;34m\u001b[0m\u001b[0m\n\u001b[0m\u001b[1;32m     26\u001b[0m         \u001b[0;32mreturn\u001b[0m \u001b[0mcross_entropy_error\u001b[0m\u001b[0;34m(\u001b[0m\u001b[0my\u001b[0m\u001b[0;34m,\u001b[0m\u001b[0mt\u001b[0m\u001b[0;34m)\u001b[0m\u001b[0;34m\u001b[0m\u001b[0;34m\u001b[0m\u001b[0m\n\u001b[1;32m     27\u001b[0m \u001b[0;34m\u001b[0m\u001b[0m\n",
      "\u001b[0;32m<ipython-input-104-721de38bc0d2>\u001b[0m in \u001b[0;36mpredict\u001b[0;34m(self, x)\u001b[0m\n\u001b[1;32m     16\u001b[0m         \u001b[0mz1\u001b[0m \u001b[0;34m=\u001b[0m \u001b[0msigmoid\u001b[0m\u001b[0;34m(\u001b[0m\u001b[0ma1\u001b[0m\u001b[0;34m)\u001b[0m\u001b[0;34m\u001b[0m\u001b[0;34m\u001b[0m\u001b[0m\n\u001b[1;32m     17\u001b[0m         \u001b[0ma2\u001b[0m \u001b[0;34m=\u001b[0m \u001b[0mnp\u001b[0m\u001b[0;34m.\u001b[0m\u001b[0mdot\u001b[0m\u001b[0;34m(\u001b[0m\u001b[0mz1\u001b[0m\u001b[0;34m,\u001b[0m \u001b[0mW2\u001b[0m\u001b[0;34m)\u001b[0m \u001b[0;34m+\u001b[0m \u001b[0mb2\u001b[0m\u001b[0;34m\u001b[0m\u001b[0;34m\u001b[0m\u001b[0m\n\u001b[0;32m---> 18\u001b[0;31m         \u001b[0my\u001b[0m \u001b[0;34m=\u001b[0m \u001b[0msoftmax\u001b[0m\u001b[0;34m(\u001b[0m\u001b[0ma2\u001b[0m\u001b[0;34m)\u001b[0m\u001b[0;34m\u001b[0m\u001b[0;34m\u001b[0m\u001b[0m\n\u001b[0m\u001b[1;32m     19\u001b[0m \u001b[0;34m\u001b[0m\u001b[0m\n\u001b[1;32m     20\u001b[0m         \u001b[0;32mreturn\u001b[0m \u001b[0my\u001b[0m\u001b[0;34m\u001b[0m\u001b[0;34m\u001b[0m\u001b[0m\n",
      "\u001b[0;32m<ipython-input-102-de1129a4f4c6>\u001b[0m in \u001b[0;36msoftmax\u001b[0;34m(x)\u001b[0m\n\u001b[1;32m      6\u001b[0m         \u001b[0mx\u001b[0m \u001b[0;34m=\u001b[0m \u001b[0mx\u001b[0m\u001b[0;34m.\u001b[0m\u001b[0mT\u001b[0m\u001b[0;34m\u001b[0m\u001b[0;34m\u001b[0m\u001b[0m\n\u001b[1;32m      7\u001b[0m         \u001b[0mx\u001b[0m \u001b[0;34m=\u001b[0m \u001b[0mx\u001b[0m \u001b[0;34m-\u001b[0m \u001b[0mnp\u001b[0m\u001b[0;34m.\u001b[0m\u001b[0mmax\u001b[0m\u001b[0;34m(\u001b[0m\u001b[0mx\u001b[0m\u001b[0;34m,\u001b[0m \u001b[0maxis\u001b[0m\u001b[0;34m=\u001b[0m\u001b[0;36m0\u001b[0m\u001b[0;34m)\u001b[0m\u001b[0;34m\u001b[0m\u001b[0;34m\u001b[0m\u001b[0m\n\u001b[0;32m----> 8\u001b[0;31m         \u001b[0my\u001b[0m \u001b[0;34m=\u001b[0m \u001b[0mnp\u001b[0m\u001b[0;34m.\u001b[0m\u001b[0mexp\u001b[0m\u001b[0;34m(\u001b[0m\u001b[0mx\u001b[0m\u001b[0;34m)\u001b[0m \u001b[0;34m/\u001b[0m \u001b[0mnp\u001b[0m\u001b[0;34m.\u001b[0m\u001b[0msum\u001b[0m\u001b[0;34m(\u001b[0m\u001b[0mnp\u001b[0m\u001b[0;34m.\u001b[0m\u001b[0mexp\u001b[0m\u001b[0;34m(\u001b[0m\u001b[0mx\u001b[0m\u001b[0;34m)\u001b[0m\u001b[0;34m,\u001b[0m \u001b[0maxis\u001b[0m\u001b[0;34m=\u001b[0m\u001b[0;36m0\u001b[0m\u001b[0;34m)\u001b[0m\u001b[0;34m\u001b[0m\u001b[0;34m\u001b[0m\u001b[0m\n\u001b[0m\u001b[1;32m      9\u001b[0m         \u001b[0;32mreturn\u001b[0m \u001b[0my\u001b[0m\u001b[0;34m.\u001b[0m\u001b[0mT\u001b[0m\u001b[0;34m\u001b[0m\u001b[0;34m\u001b[0m\u001b[0m\n\u001b[1;32m     10\u001b[0m \u001b[0;34m\u001b[0m\u001b[0m\n",
      "\u001b[0;31mKeyboardInterrupt\u001b[0m: "
     ]
    }
   ],
   "source": [
    "import numpy as np\n",
    "import tensorflow as tf\n",
    "\n",
    "(x_train, t_train), (y_train, t_test) = tf.keras.datasets.mnist.load_data()\n",
    "x_train = x_train.reshape(60000, 784)\n",
    "x_test = x_test.reshape(10000, 784)\n",
    "\n",
    "train_loss_list = []\n",
    "\n",
    "#하이퍼파라미터\n",
    "\n",
    "iters_num = 10000 #반복 횟수\n",
    "train_size = x_train.shape[0]\n",
    "batch_size = 100 # 미니배치 크기\n",
    "learning_rate = 0.1\n",
    "network = TwoLayerNet(input_size= 784, hidden_size=100, output_size=10)\n",
    "\n",
    "for i in range(iters_num):\n",
    "    #미니배치 획득\n",
    "    batch_mask = np.random.choice(train_size, batch_size)\n",
    "    x_batch = x_train[batch_mask]\n",
    "    t_batch = t_train[batch_mask]\n",
    "    \n",
    "    # 기울기 계산\n",
    "    grad = network.numerical_gradient(x_batch, t_batch)\n",
    "    # gard = network.gradient(x_batch, t_batch)\n",
    "    \n",
    "    # 매개변수 갱신\n",
    "    for key in ('W1', 'b1', 'W2', 'b2'):\n",
    "        network.params[key] -= learning_rate * grad[key]\n",
    "        \n",
    "    #학습 경과 기록\n",
    "    loss = network.loss(x_batch, t_batch)\n",
    "    train_loss_list.append(loss)"
   ]
  },
  {
   "cell_type": "markdown",
   "id": "259c62fa",
   "metadata": {},
   "source": [
    "    - 미니배치 크기를 100으로 하여, 매번 60,000개의 훈련 데이터에서 임의로 100개의 데이터(이미지 데이터와 정답 레이블 데이터)를 추려냄\n",
    "    - 그 100개의 미니배치를 대상으로 확률적 경사 하강법을 수행해 매개변수를 갱신\n",
    "    - 경사법에 의한 갱신 횟수(반복 횟수)를 10,000번으로 설정하고, 갱신할 때마다 훈련 데이터에 대한 손실 함수를 계산"
   ]
  },
  {
   "cell_type": "markdown",
   "id": "0b6f6e8e",
   "metadata": {},
   "source": [
    "`시험 데이터로 평가`"
   ]
  },
  {
   "cell_type": "code",
   "execution_count": 107,
   "id": "be61cd73",
   "metadata": {},
   "outputs": [],
   "source": [
    "class TwoLayerNet:\n",
    "\n",
    "    def __init__(self, input_size, hidden_size, output_size, weight_init_std=0.01):\n",
    "        # 가중치 초기화\n",
    "        self.params = {}\n",
    "        self.params['W1'] = weight_init_std * np.random.randn(input_size, hidden_size)\n",
    "        self.params['b1'] = np.zeros(hidden_size)\n",
    "        self.params['W2'] = weight_init_std * np.random.randn(hidden_size, output_size)\n",
    "        self.params['b2'] = np.zeros(output_size)\n",
    "\n",
    "    def predict(self, x):\n",
    "        W1, W2 = self.params['W1'], self.params['W2']\n",
    "        b1, b2 = self.params['b1'], self.params['b2']\n",
    "    \n",
    "        a1 = np.dot(x, W1) + b1\n",
    "        z1 = sigmoid(a1)\n",
    "        a2 = np.dot(z1, W2) + b2\n",
    "        y = softmax(a2)\n",
    "        \n",
    "        return y\n",
    "        \n",
    "    # x : 입력 데이터, t : 정답 레이블\n",
    "    def loss(self, x, t):\n",
    "        y = self.predict(x)\n",
    "        \n",
    "        return cross_entropy_error(y, t)\n",
    "    \n",
    "    def accuracy(self, x, t):\n",
    "        y = self.predict(x)\n",
    "        y = np.argmax(y, axis=1)\n",
    "        t = np.argmax(t, axis=1)\n",
    "        \n",
    "        accuracy = np.sum(y == t) / float(x.shape[0])\n",
    "        return accuracy\n",
    "        \n",
    "    # x : 입력 데이터, t : 정답 레이블\n",
    "    def numerical_gradient(self, x, t):\n",
    "        loss_W = lambda W: self.loss(x, t)\n",
    "        \n",
    "        grads = {}\n",
    "        grads['W1'] = numerical_gradient(loss_W, self.params['W1'])\n",
    "        grads['b1'] = numerical_gradient(loss_W, self.params['b1'])\n",
    "        grads['W2'] = numerical_gradient(loss_W, self.params['W2'])\n",
    "        grads['b2'] = numerical_gradient(loss_W, self.params['b2'])\n",
    "        \n",
    "        return grads\n",
    "        \n",
    "    def gradient(self, x, t):\n",
    "        W1, W2 = self.params['W1'], self.params['W2']\n",
    "        b1, b2 = self.params['b1'], self.params['b2']\n",
    "        grads = {}\n",
    "        \n",
    "        batch_num = x.shape[0]\n",
    "        \n",
    "        # forward\n",
    "        a1 = np.dot(x, W1) + b1\n",
    "        z1 = sigmoid(a1)\n",
    "        a2 = np.dot(z1, W2) + b2\n",
    "        y = softmax(a2)\n",
    "        \n",
    "        # backward\n",
    "        dy = (y - t) / batch_num\n",
    "        grads['W2'] = np.dot(z1.T, dy)\n",
    "        grads['b2'] = np.sum(dy, axis=0)\n",
    "        \n",
    "        da1 = np.dot(dy, W2.T)\n",
    "        dz1 = sigmoid_grad(a1) * da1\n",
    "        grads['W1'] = np.dot(x.T, dz1)\n",
    "        grads['b1'] = np.sum(dz1, axis=0)\n",
    "\n",
    "        return grads"
   ]
  },
  {
   "cell_type": "code",
   "execution_count": 117,
   "id": "36cd87fd",
   "metadata": {},
   "outputs": [
    {
     "ename": "AxisError",
     "evalue": "axis 1 is out of bounds for array of dimension 1",
     "output_type": "error",
     "traceback": [
      "\u001b[0;31m---------------------------------------------------------------------------\u001b[0m",
      "\u001b[0;31mAxisError\u001b[0m                                 Traceback (most recent call last)",
      "\u001b[0;32m<ipython-input-117-83b55df2934a>\u001b[0m in \u001b[0;36m<module>\u001b[0;34m\u001b[0m\n\u001b[1;32m     42\u001b[0m     \u001b[0;31m# 1에폭당 정확도 계산\u001b[0m\u001b[0;34m\u001b[0m\u001b[0;34m\u001b[0m\u001b[0;34m\u001b[0m\u001b[0m\n\u001b[1;32m     43\u001b[0m     \u001b[0;32mif\u001b[0m \u001b[0mi\u001b[0m \u001b[0;34m%\u001b[0m \u001b[0miter_per_epoch\u001b[0m \u001b[0;34m==\u001b[0m \u001b[0;36m0\u001b[0m\u001b[0;34m:\u001b[0m\u001b[0;34m\u001b[0m\u001b[0;34m\u001b[0m\u001b[0m\n\u001b[0;32m---> 44\u001b[0;31m         \u001b[0mtrain_acc\u001b[0m \u001b[0;34m=\u001b[0m \u001b[0mnetwork\u001b[0m\u001b[0;34m.\u001b[0m\u001b[0maccuracy\u001b[0m\u001b[0;34m(\u001b[0m\u001b[0mx_train\u001b[0m\u001b[0;34m,\u001b[0m \u001b[0mt_train\u001b[0m\u001b[0;34m)\u001b[0m\u001b[0;34m\u001b[0m\u001b[0;34m\u001b[0m\u001b[0m\n\u001b[0m\u001b[1;32m     45\u001b[0m         \u001b[0mtest_acc\u001b[0m \u001b[0;34m=\u001b[0m \u001b[0mnetwork\u001b[0m\u001b[0;34m.\u001b[0m\u001b[0maccuracy\u001b[0m\u001b[0;34m(\u001b[0m\u001b[0mx_test\u001b[0m\u001b[0;34m,\u001b[0m \u001b[0mt_test\u001b[0m\u001b[0;34m)\u001b[0m\u001b[0;34m\u001b[0m\u001b[0;34m\u001b[0m\u001b[0m\n\u001b[1;32m     46\u001b[0m         \u001b[0mtrain_acc_list\u001b[0m\u001b[0;34m.\u001b[0m\u001b[0mappend\u001b[0m\u001b[0;34m(\u001b[0m\u001b[0mtrain_acc\u001b[0m\u001b[0;34m)\u001b[0m\u001b[0;34m\u001b[0m\u001b[0;34m\u001b[0m\u001b[0m\n",
      "\u001b[0;32m<ipython-input-107-50ed366b366a>\u001b[0m in \u001b[0;36maccuracy\u001b[0;34m(self, x, t)\u001b[0m\n\u001b[1;32m     29\u001b[0m         \u001b[0my\u001b[0m \u001b[0;34m=\u001b[0m \u001b[0mself\u001b[0m\u001b[0;34m.\u001b[0m\u001b[0mpredict\u001b[0m\u001b[0;34m(\u001b[0m\u001b[0mx\u001b[0m\u001b[0;34m)\u001b[0m\u001b[0;34m\u001b[0m\u001b[0;34m\u001b[0m\u001b[0m\n\u001b[1;32m     30\u001b[0m         \u001b[0my\u001b[0m \u001b[0;34m=\u001b[0m \u001b[0mnp\u001b[0m\u001b[0;34m.\u001b[0m\u001b[0margmax\u001b[0m\u001b[0;34m(\u001b[0m\u001b[0my\u001b[0m\u001b[0;34m,\u001b[0m \u001b[0maxis\u001b[0m\u001b[0;34m=\u001b[0m\u001b[0;36m1\u001b[0m\u001b[0;34m)\u001b[0m\u001b[0;34m\u001b[0m\u001b[0;34m\u001b[0m\u001b[0m\n\u001b[0;32m---> 31\u001b[0;31m         \u001b[0mt\u001b[0m \u001b[0;34m=\u001b[0m \u001b[0mnp\u001b[0m\u001b[0;34m.\u001b[0m\u001b[0margmax\u001b[0m\u001b[0;34m(\u001b[0m\u001b[0mt\u001b[0m\u001b[0;34m,\u001b[0m \u001b[0maxis\u001b[0m\u001b[0;34m=\u001b[0m\u001b[0;36m1\u001b[0m\u001b[0;34m)\u001b[0m\u001b[0;34m\u001b[0m\u001b[0;34m\u001b[0m\u001b[0m\n\u001b[0m\u001b[1;32m     32\u001b[0m \u001b[0;34m\u001b[0m\u001b[0m\n\u001b[1;32m     33\u001b[0m         \u001b[0maccuracy\u001b[0m \u001b[0;34m=\u001b[0m \u001b[0mnp\u001b[0m\u001b[0;34m.\u001b[0m\u001b[0msum\u001b[0m\u001b[0;34m(\u001b[0m\u001b[0my\u001b[0m \u001b[0;34m==\u001b[0m \u001b[0mt\u001b[0m\u001b[0;34m)\u001b[0m \u001b[0;34m/\u001b[0m \u001b[0mfloat\u001b[0m\u001b[0;34m(\u001b[0m\u001b[0mx\u001b[0m\u001b[0;34m.\u001b[0m\u001b[0mshape\u001b[0m\u001b[0;34m[\u001b[0m\u001b[0;36m0\u001b[0m\u001b[0;34m]\u001b[0m\u001b[0;34m)\u001b[0m\u001b[0;34m\u001b[0m\u001b[0;34m\u001b[0m\u001b[0m\n",
      "\u001b[0;32m<__array_function__ internals>\u001b[0m in \u001b[0;36margmax\u001b[0;34m(*args, **kwargs)\u001b[0m\n",
      "\u001b[0;32m~/anaconda3/envs/pytorch/lib/python3.8/site-packages/numpy/core/fromnumeric.py\u001b[0m in \u001b[0;36margmax\u001b[0;34m(a, axis, out)\u001b[0m\n\u001b[1;32m   1191\u001b[0m \u001b[0;34m\u001b[0m\u001b[0m\n\u001b[1;32m   1192\u001b[0m     \"\"\"\n\u001b[0;32m-> 1193\u001b[0;31m     \u001b[0;32mreturn\u001b[0m \u001b[0m_wrapfunc\u001b[0m\u001b[0;34m(\u001b[0m\u001b[0ma\u001b[0m\u001b[0;34m,\u001b[0m \u001b[0;34m'argmax'\u001b[0m\u001b[0;34m,\u001b[0m \u001b[0maxis\u001b[0m\u001b[0;34m=\u001b[0m\u001b[0maxis\u001b[0m\u001b[0;34m,\u001b[0m \u001b[0mout\u001b[0m\u001b[0;34m=\u001b[0m\u001b[0mout\u001b[0m\u001b[0;34m)\u001b[0m\u001b[0;34m\u001b[0m\u001b[0;34m\u001b[0m\u001b[0m\n\u001b[0m\u001b[1;32m   1194\u001b[0m \u001b[0;34m\u001b[0m\u001b[0m\n\u001b[1;32m   1195\u001b[0m \u001b[0;34m\u001b[0m\u001b[0m\n",
      "\u001b[0;32m~/anaconda3/envs/pytorch/lib/python3.8/site-packages/numpy/core/fromnumeric.py\u001b[0m in \u001b[0;36m_wrapfunc\u001b[0;34m(obj, method, *args, **kwds)\u001b[0m\n\u001b[1;32m     56\u001b[0m \u001b[0;34m\u001b[0m\u001b[0m\n\u001b[1;32m     57\u001b[0m     \u001b[0;32mtry\u001b[0m\u001b[0;34m:\u001b[0m\u001b[0;34m\u001b[0m\u001b[0;34m\u001b[0m\u001b[0m\n\u001b[0;32m---> 58\u001b[0;31m         \u001b[0;32mreturn\u001b[0m \u001b[0mbound\u001b[0m\u001b[0;34m(\u001b[0m\u001b[0;34m*\u001b[0m\u001b[0margs\u001b[0m\u001b[0;34m,\u001b[0m \u001b[0;34m**\u001b[0m\u001b[0mkwds\u001b[0m\u001b[0;34m)\u001b[0m\u001b[0;34m\u001b[0m\u001b[0;34m\u001b[0m\u001b[0m\n\u001b[0m\u001b[1;32m     59\u001b[0m     \u001b[0;32mexcept\u001b[0m \u001b[0mTypeError\u001b[0m\u001b[0;34m:\u001b[0m\u001b[0;34m\u001b[0m\u001b[0;34m\u001b[0m\u001b[0m\n\u001b[1;32m     60\u001b[0m         \u001b[0;31m# A TypeError occurs if the object does have such a method in its\u001b[0m\u001b[0;34m\u001b[0m\u001b[0;34m\u001b[0m\u001b[0;34m\u001b[0m\u001b[0m\n",
      "\u001b[0;31mAxisError\u001b[0m: axis 1 is out of bounds for array of dimension 1"
     ]
    }
   ],
   "source": [
    "import numpy as np\n",
    "import tensorflow as tf\n",
    "\n",
    "(x_train, t_train), (y_train, t_test) = tf.keras.datasets.mnist.load_data()\n",
    "x_train = x_train.reshape(60000, 784)\n",
    "y_train = y_train.reshape(10000, 784)\n",
    "\n",
    "network = TwoLayerNet(input_size=784, hidden_size=50, output_size=10)\n",
    "\n",
    "\n",
    "#하이퍼 파라미터\n",
    "iters_num = 10000\n",
    "train_size = x_train.shape[0]\n",
    "batch_size =100\n",
    "learning_rate = 0.1\n",
    "\n",
    "train_loss_list = []\n",
    "train_acc_list = []\n",
    "test_acc_list = []\n",
    "\n",
    "# 1에폭당 반복 수\n",
    "iter_per_epoch = max(train_size / batch_size, 1)\n",
    "\n",
    "for i in range(iters_num):\n",
    "    # 미니 배치 획득\n",
    "    batch_mask = np.random.choice(train_size, batch_size)\n",
    "    x_batch = x_train[batch_mask]\n",
    "    t_batch = t_train[batch_mask]\n",
    "    \n",
    "    # 기울기 계산\n",
    "    grad = network.numerical_gradient(x_batch, t_batch)\n",
    "    # grad = network.gradient(x_batch, t_batch)\n",
    "    \n",
    "    # 매개변수 갱신\n",
    "    for key in ('W1', 'b1', 'W2', 'b2'):\n",
    "        network.params[key] -= learning_rate * grad[key]\n",
    "        \n",
    "    # 학습 경과 기록\n",
    "    loss = network.loss(x_batch, t_batch)\n",
    "    train_loss_list.append(loss)\n",
    "    \n",
    "    # 1에폭당 정확도 계산\n",
    "    if i % iter_per_epoch == 0:\n",
    "        train_acc = network.accuracy(x_train, t_train)\n",
    "        test_acc = network.accuracy(x_test, t_test)\n",
    "        train_acc_list.append(train_acc)\n",
    "        test_acc_list.append(test_acc)\n",
    "        print('train acc, test acc |' + str(train_acc) + ', ' + str(test_acc)) "
   ]
  },
  {
   "cell_type": "markdown",
   "id": "7b0f7dbc",
   "metadata": {},
   "source": [
    "     - 1 에폭마다 모든 훈련 데이터와 시험 데이터에 대한 정확도 계산 \n",
    "     - 정확도를 1에폭마다 계산하는 이유는 for 문안에서 매번 게산하기에는 시간이 오래걸리고, 자주 기록할 필요가 없기 때문"
   ]
  },
  {
   "cell_type": "code",
   "execution_count": 47,
   "id": "2053da9e",
   "metadata": {},
   "outputs": [
    {
     "data": {
      "text/plain": [
       "array([[-1.32915135, -0.23250927,  0.69811818],\n",
       "       [ 1.04279034, -1.17171146, -1.15089516]])"
      ]
     },
     "execution_count": 47,
     "metadata": {},
     "output_type": "execute_result"
    }
   ],
   "source": []
  },
  {
   "cell_type": "code",
   "execution_count": null,
   "id": "90d5f00c",
   "metadata": {},
   "outputs": [],
   "source": []
  }
 ],
 "metadata": {
  "kernelspec": {
   "display_name": "Python 3",
   "language": "python",
   "name": "python3"
  },
  "language_info": {
   "codemirror_mode": {
    "name": "ipython",
    "version": 3
   },
   "file_extension": ".py",
   "mimetype": "text/x-python",
   "name": "python",
   "nbconvert_exporter": "python",
   "pygments_lexer": "ipython3",
   "version": "3.8.11"
  }
 },
 "nbformat": 4,
 "nbformat_minor": 5
}
