{
 "cells": [
  {
   "cell_type": "code",
   "execution_count": 1,
   "id": "5c02cd33",
   "metadata": {},
   "outputs": [],
   "source": [
    "text = '''Dear Amazon, last week I ordered an Optimus Prime action figure from your online store in Germany.\n",
    "unFortunately, when I opened the package, I discovered to my horror hat I had been sent an action figure of Megatron instedad!\n",
    "As a lifelong enemy of the Deceptions, I hope you can understand my dilemma. To resolve the issue, \n",
    "I demand an exchange of Megatron ofr the Optimus Prime figure I ordered.\n",
    "Enclosed are copies of my records concerning this purchase. I expect to hear from you soon.\n",
    "Sincerly, Bumblebee.'''"
   ]
  },
  {
   "cell_type": "markdown",
   "id": "7f40a7df",
   "metadata": {},
   "source": [
    "## 1. 감성분석(sentiment analysis) - text classification"
   ]
  },
  {
   "cell_type": "markdown",
   "id": "76bf7cd5",
   "metadata": {},
   "source": [
    "    - 위와 같은 고객 피드백 데이터가 긍정인지 부정인지 알고자 할 때\n",
    "    sentiment analysis(감성 분석) 작업을 하는데, 이는 text classification(텍스트 분류)에 해당함"
   ]
  },
  {
   "cell_type": "code",
   "execution_count": 6,
   "id": "1786a194",
   "metadata": {},
   "outputs": [
    {
     "name": "stderr",
     "output_type": "stream",
     "text": [
      "No model was supplied, defaulted to distilbert-base-uncased-finetuned-sst-2-english (https://huggingface.co/distilbert-base-uncased-finetuned-sst-2-english)\n"
     ]
    },
    {
     "data": {
      "application/vnd.jupyter.widget-view+json": {
       "model_id": "d957c4aa8ca04b1795b115ecef44720c",
       "version_major": 2,
       "version_minor": 0
      },
      "text/plain": [
       "Downloading:   0%|          | 0.00/629 [00:00<?, ?B/s]"
      ]
     },
     "metadata": {},
     "output_type": "display_data"
    },
    {
     "data": {
      "application/vnd.jupyter.widget-view+json": {
       "model_id": "79bf9adb9caf49cab9c8221a979b803c",
       "version_major": 2,
       "version_minor": 0
      },
      "text/plain": [
       "Downloading:   0%|          | 0.00/255M [00:00<?, ?B/s]"
      ]
     },
     "metadata": {},
     "output_type": "display_data"
    },
    {
     "data": {
      "application/vnd.jupyter.widget-view+json": {
       "model_id": "93685b2906b84715ac6bce0ad7db3b41",
       "version_major": 2,
       "version_minor": 0
      },
      "text/plain": [
       "Downloading:   0%|          | 0.00/48.0 [00:00<?, ?B/s]"
      ]
     },
     "metadata": {},
     "output_type": "display_data"
    },
    {
     "data": {
      "application/vnd.jupyter.widget-view+json": {
       "model_id": "e1a4909beed8498e9500b04722eb6b9d",
       "version_major": 2,
       "version_minor": 0
      },
      "text/plain": [
       "Downloading:   0%|          | 0.00/226k [00:00<?, ?B/s]"
      ]
     },
     "metadata": {},
     "output_type": "display_data"
    }
   ],
   "source": [
    "# 트랜스포머를 사용하여 예시 텍스트의 감성을 분류\n",
    "# text-classification은 다중 분류(multiclass classification)와 다중 레이블 분류(multilabel classification)\n",
    "from transformers import pipeline\n",
    "\n",
    "classifier = pipeline('text-classification')\n"
   ]
  },
  {
   "cell_type": "code",
   "execution_count": 7,
   "id": "a96be67b",
   "metadata": {},
   "outputs": [
    {
     "data": {
      "text/html": [
       "<div>\n",
       "<style scoped>\n",
       "    .dataframe tbody tr th:only-of-type {\n",
       "        vertical-align: middle;\n",
       "    }\n",
       "\n",
       "    .dataframe tbody tr th {\n",
       "        vertical-align: top;\n",
       "    }\n",
       "\n",
       "    .dataframe thead th {\n",
       "        text-align: right;\n",
       "    }\n",
       "</style>\n",
       "<table border=\"1\" class=\"dataframe\">\n",
       "  <thead>\n",
       "    <tr style=\"text-align: right;\">\n",
       "      <th></th>\n",
       "      <th>label</th>\n",
       "      <th>score</th>\n",
       "    </tr>\n",
       "  </thead>\n",
       "  <tbody>\n",
       "    <tr>\n",
       "      <th>0</th>\n",
       "      <td>NEGATIVE</td>\n",
       "      <td>0.968888</td>\n",
       "    </tr>\n",
       "  </tbody>\n",
       "</table>\n",
       "</div>"
      ],
      "text/plain": [
       "      label     score\n",
       "0  NEGATIVE  0.968888"
      ]
     },
     "execution_count": 7,
     "metadata": {},
     "output_type": "execute_result"
    }
   ],
   "source": [
    "import pandas as pd\n",
    "\n",
    "outputs = classifier(text)\n",
    "pd.DataFrame(outputs)"
   ]
  },
  {
   "cell_type": "markdown",
   "id": "11468523",
   "metadata": {},
   "source": [
    "    -> 위 모델은 텍스트가 부정적이라고 예측함\n",
    "    - 감성 분석 작업에서 파이프라인은 positive와 negative 레이블 중 하나를 반환함"
   ]
  },
  {
   "cell_type": "markdown",
   "id": "9dd13e2b",
   "metadata": {},
   "source": [
    "## 2. 개체명 인식(Named entity recognition; NER)\n",
    "\n",
    "    - 제품, 장소, 사람 같은 실제 객체인 개체명(naemd entity)을 추출하는 작업"
   ]
  },
  {
   "cell_type": "code",
   "execution_count": 8,
   "id": "ef5cc033",
   "metadata": {},
   "outputs": [
    {
     "name": "stderr",
     "output_type": "stream",
     "text": [
      "No model was supplied, defaulted to dbmdz/bert-large-cased-finetuned-conll03-english (https://huggingface.co/dbmdz/bert-large-cased-finetuned-conll03-english)\n"
     ]
    },
    {
     "data": {
      "application/vnd.jupyter.widget-view+json": {
       "model_id": "bb58a44cfba54c4f8b89b0e1737a4397",
       "version_major": 2,
       "version_minor": 0
      },
      "text/plain": [
       "Downloading:   0%|          | 0.00/998 [00:00<?, ?B/s]"
      ]
     },
     "metadata": {},
     "output_type": "display_data"
    },
    {
     "data": {
      "application/vnd.jupyter.widget-view+json": {
       "model_id": "4c63d9dbd1b64c72925eaef26cceb925",
       "version_major": 2,
       "version_minor": 0
      },
      "text/plain": [
       "Downloading:   0%|          | 0.00/1.24G [00:00<?, ?B/s]"
      ]
     },
     "metadata": {},
     "output_type": "display_data"
    },
    {
     "data": {
      "application/vnd.jupyter.widget-view+json": {
       "model_id": "032d1faedcb947f69261836d51e1f3e3",
       "version_major": 2,
       "version_minor": 0
      },
      "text/plain": [
       "Downloading:   0%|          | 0.00/60.0 [00:00<?, ?B/s]"
      ]
     },
     "metadata": {},
     "output_type": "display_data"
    },
    {
     "data": {
      "application/vnd.jupyter.widget-view+json": {
       "model_id": "2ac2f6d528b148f59183d781c131de90",
       "version_major": 2,
       "version_minor": 0
      },
      "text/plain": [
       "Downloading:   0%|          | 0.00/208k [00:00<?, ?B/s]"
      ]
     },
     "metadata": {},
     "output_type": "display_data"
    },
    {
     "data": {
      "text/html": [
       "<div>\n",
       "<style scoped>\n",
       "    .dataframe tbody tr th:only-of-type {\n",
       "        vertical-align: middle;\n",
       "    }\n",
       "\n",
       "    .dataframe tbody tr th {\n",
       "        vertical-align: top;\n",
       "    }\n",
       "\n",
       "    .dataframe thead th {\n",
       "        text-align: right;\n",
       "    }\n",
       "</style>\n",
       "<table border=\"1\" class=\"dataframe\">\n",
       "  <thead>\n",
       "    <tr style=\"text-align: right;\">\n",
       "      <th></th>\n",
       "      <th>entity_group</th>\n",
       "      <th>score</th>\n",
       "      <th>word</th>\n",
       "      <th>start</th>\n",
       "      <th>end</th>\n",
       "    </tr>\n",
       "  </thead>\n",
       "  <tbody>\n",
       "    <tr>\n",
       "      <th>0</th>\n",
       "      <td>ORG</td>\n",
       "      <td>0.942881</td>\n",
       "      <td>Amazon</td>\n",
       "      <td>5</td>\n",
       "      <td>11</td>\n",
       "    </tr>\n",
       "    <tr>\n",
       "      <th>1</th>\n",
       "      <td>MISC</td>\n",
       "      <td>0.994278</td>\n",
       "      <td>Optimus Prime</td>\n",
       "      <td>36</td>\n",
       "      <td>49</td>\n",
       "    </tr>\n",
       "    <tr>\n",
       "      <th>2</th>\n",
       "      <td>LOC</td>\n",
       "      <td>0.999709</td>\n",
       "      <td>Germany</td>\n",
       "      <td>90</td>\n",
       "      <td>97</td>\n",
       "    </tr>\n",
       "    <tr>\n",
       "      <th>3</th>\n",
       "      <td>MISC</td>\n",
       "      <td>0.915280</td>\n",
       "      <td>Megatron</td>\n",
       "      <td>207</td>\n",
       "      <td>215</td>\n",
       "    </tr>\n",
       "    <tr>\n",
       "      <th>4</th>\n",
       "      <td>ORG</td>\n",
       "      <td>0.811659</td>\n",
       "      <td>Deceptions</td>\n",
       "      <td>253</td>\n",
       "      <td>263</td>\n",
       "    </tr>\n",
       "    <tr>\n",
       "      <th>5</th>\n",
       "      <td>MISC</td>\n",
       "      <td>0.947643</td>\n",
       "      <td>Megatron</td>\n",
       "      <td>350</td>\n",
       "      <td>358</td>\n",
       "    </tr>\n",
       "    <tr>\n",
       "      <th>6</th>\n",
       "      <td>MISC</td>\n",
       "      <td>0.993323</td>\n",
       "      <td>Optimus Prime</td>\n",
       "      <td>367</td>\n",
       "      <td>380</td>\n",
       "    </tr>\n",
       "    <tr>\n",
       "      <th>7</th>\n",
       "      <td>PER</td>\n",
       "      <td>0.738231</td>\n",
       "      <td>Bumblebee</td>\n",
       "      <td>501</td>\n",
       "      <td>510</td>\n",
       "    </tr>\n",
       "  </tbody>\n",
       "</table>\n",
       "</div>"
      ],
      "text/plain": [
       "  entity_group     score           word  start  end\n",
       "0          ORG  0.942881         Amazon      5   11\n",
       "1         MISC  0.994278  Optimus Prime     36   49\n",
       "2          LOC  0.999709        Germany     90   97\n",
       "3         MISC  0.915280       Megatron    207  215\n",
       "4          ORG  0.811659     Deceptions    253  263\n",
       "5         MISC  0.947643       Megatron    350  358\n",
       "6         MISC  0.993323  Optimus Prime    367  380\n",
       "7          PER  0.738231      Bumblebee    501  510"
      ]
     },
     "execution_count": 8,
     "metadata": {},
     "output_type": "execute_result"
    }
   ],
   "source": [
    "ner_tagger = pipeline('ner', aggregation_strategy='simple')\n",
    "outputs = ner_tagger(text)\n",
    "pd.DataFrame(outputs)"
   ]
  },
  {
   "cell_type": "markdown",
   "id": "ec634678",
   "metadata": {},
   "source": [
    "    - 위 파이프라인에서는 모든 개체명을 감지해서 `ORG(조직)`, `LOC(위치)`, `PER(사람)` 같은 카테고리에 할당함\n",
    "    모델 예측에 따라 단어를 그룹화하기 위해서 AGGREGATION_STRATEGY 매개변수 사용\n",
    "    \n",
    "    예를 들어, \n",
    "    'Optimus Prime'은 두 단어로 구성되지만, 하나의 카테고리 MISC(그 외)에 할당됨\n",
    "    점수는 모델이 개체명을 얼마나 확신하는지 나타내며, 'Deceptions', 첫 번째 'Megatron'에서 가장 확신이 낮아서,\n",
    "    두 경우 하나의 개체로 묶이지 못했음\n",
    "    \n",
    "    \n",
    "    - 위의 word 열의 해시(hash, #) 기호는 토크나이저가(tokenizer)가 생성한 것\n",
    "    토크나이저는 단어를 토큰(token)이라는 기본 단외로 분할함"
   ]
  },
  {
   "cell_type": "code",
   "execution_count": null,
   "id": "83383f39",
   "metadata": {},
   "outputs": [],
   "source": []
  },
  {
   "cell_type": "markdown",
   "id": "553ef575",
   "metadata": {},
   "source": [
    "## 3. 질문 답변(Question Answering)"
   ]
  },
  {
   "cell_type": "code",
   "execution_count": 9,
   "id": "eebfc7ea",
   "metadata": {},
   "outputs": [
    {
     "name": "stderr",
     "output_type": "stream",
     "text": [
      "No model was supplied, defaulted to distilbert-base-cased-distilled-squad (https://huggingface.co/distilbert-base-cased-distilled-squad)\n"
     ]
    },
    {
     "data": {
      "application/vnd.jupyter.widget-view+json": {
       "model_id": "356c7375183b43e18a9dfc85531612cf",
       "version_major": 2,
       "version_minor": 0
      },
      "text/plain": [
       "Downloading:   0%|          | 0.00/473 [00:00<?, ?B/s]"
      ]
     },
     "metadata": {},
     "output_type": "display_data"
    },
    {
     "data": {
      "application/vnd.jupyter.widget-view+json": {
       "model_id": "54ad3e5106604616a15c60b51f3a704e",
       "version_major": 2,
       "version_minor": 0
      },
      "text/plain": [
       "Downloading:   0%|          | 0.00/249M [00:00<?, ?B/s]"
      ]
     },
     "metadata": {},
     "output_type": "display_data"
    },
    {
     "data": {
      "application/vnd.jupyter.widget-view+json": {
       "model_id": "29ad0583d99f4445bee4e362d77677aa",
       "version_major": 2,
       "version_minor": 0
      },
      "text/plain": [
       "Downloading:   0%|          | 0.00/29.0 [00:00<?, ?B/s]"
      ]
     },
     "metadata": {},
     "output_type": "display_data"
    },
    {
     "data": {
      "application/vnd.jupyter.widget-view+json": {
       "model_id": "fed4d92e776946a2a3f8006d74de31b8",
       "version_major": 2,
       "version_minor": 0
      },
      "text/plain": [
       "Downloading:   0%|          | 0.00/208k [00:00<?, ?B/s]"
      ]
     },
     "metadata": {},
     "output_type": "display_data"
    },
    {
     "data": {
      "application/vnd.jupyter.widget-view+json": {
       "model_id": "25ec210089c342698305c8b26625f846",
       "version_major": 2,
       "version_minor": 0
      },
      "text/plain": [
       "Downloading:   0%|          | 0.00/426k [00:00<?, ?B/s]"
      ]
     },
     "metadata": {},
     "output_type": "display_data"
    },
    {
     "data": {
      "text/html": [
       "<div>\n",
       "<style scoped>\n",
       "    .dataframe tbody tr th:only-of-type {\n",
       "        vertical-align: middle;\n",
       "    }\n",
       "\n",
       "    .dataframe tbody tr th {\n",
       "        vertical-align: top;\n",
       "    }\n",
       "\n",
       "    .dataframe thead th {\n",
       "        text-align: right;\n",
       "    }\n",
       "</style>\n",
       "<table border=\"1\" class=\"dataframe\">\n",
       "  <thead>\n",
       "    <tr style=\"text-align: right;\">\n",
       "      <th></th>\n",
       "      <th>score</th>\n",
       "      <th>start</th>\n",
       "      <th>end</th>\n",
       "      <th>answer</th>\n",
       "    </tr>\n",
       "  </thead>\n",
       "  <tbody>\n",
       "    <tr>\n",
       "      <th>0</th>\n",
       "      <td>0.355419</td>\n",
       "      <td>335</td>\n",
       "      <td>397</td>\n",
       "      <td>an exchange of Megatron ofr the Optimus Prime ...</td>\n",
       "    </tr>\n",
       "  </tbody>\n",
       "</table>\n",
       "</div>"
      ],
      "text/plain": [
       "      score  start  end                                             answer\n",
       "0  0.355419    335  397  an exchange of Megatron ofr the Optimus Prime ..."
      ]
     },
     "execution_count": 9,
     "metadata": {},
     "output_type": "execute_result"
    }
   ],
   "source": [
    "reader = pipeline('question-answering')\n",
    "question = 'What does the customer want?'\n",
    "outputs = reader(question=question, context=text)\n",
    "pd.DataFrame([outputs])"
   ]
  },
  {
   "cell_type": "markdown",
   "id": "fdff3c69",
   "metadata": {},
   "source": [
    "    - 파이프라인은 답변과 함께 답이 위치한 문자 인덱스에 해당하는 start와 end 정수도 반환함\n",
    "    - 질문 답변에는 여러 유형이 있는데, 텍스트에서 직접 추출하기 때문에 `추출적 질문 답변(extractive question answering)` 임"
   ]
  },
  {
   "cell_type": "markdown",
   "id": "707fdb6b",
   "metadata": {},
   "source": [
    "## 4. 요약(Text Summarization)\n",
    "\n",
    "    - 긴 텍스트를 입력으로 받고, 관련 사실이 포함된 간단한 버전을 생성"
   ]
  },
  {
   "cell_type": "code",
   "execution_count": 11,
   "id": "51fb571a",
   "metadata": {},
   "outputs": [
    {
     "name": "stderr",
     "output_type": "stream",
     "text": [
      "No model was supplied, defaulted to sshleifer/distilbart-cnn-12-6 (https://huggingface.co/sshleifer/distilbart-cnn-12-6)\n",
      "Your min_length=56 must be inferior than your max_length=45.\n"
     ]
    },
    {
     "name": "stdout",
     "output_type": "stream",
     "text": [
      " Dear Amazon, last week I ordered an Optimus Prime action figure from your online store in Germany. When I opened the package, I discovered to my horror hat I had been sent an action figure of Megatron.\n"
     ]
    }
   ],
   "source": [
    "summarizer = pipeline('summarization')\n",
    "outputs = summarizer(text, max_length=45, clean_up_tokenization_spaces=True)\n",
    "print(outputs[0]['summary_text'])"
   ]
  },
  {
   "cell_type": "code",
   "execution_count": 13,
   "id": "97681694",
   "metadata": {},
   "outputs": [
    {
     "data": {
      "text/plain": [
       "[{'summary_text': ' Dear Amazon, last week I ordered an Optimus Prime action figure from your online store in Germany. When I opened the package, I discovered to my horror hat I had been sent an action figure of Megatron.'}]"
      ]
     },
     "execution_count": 13,
     "metadata": {},
     "output_type": "execute_result"
    }
   ],
   "source": [
    "outputs"
   ]
  },
  {
   "cell_type": "markdown",
   "id": "bf1ff066",
   "metadata": {},
   "source": [
    "    - max_length, clean_up_tokenization_spaces 키워드는 실행 시점에 출력을 조정함\n",
    "    - 피드백이 이해할 수 없는 언어로 되어 있따면, 구글 번역을 이용하거나, 트랜스포머 모델을 사용해 번역함"
   ]
  },
  {
   "cell_type": "markdown",
   "id": "f966ce4f",
   "metadata": {},
   "source": [
    "## 5. 번역"
   ]
  },
  {
   "cell_type": "code",
   "execution_count": 15,
   "id": "f5b6707f",
   "metadata": {},
   "outputs": [
    {
     "name": "stdout",
     "output_type": "stream",
     "text": [
      "Liebe Amazon, letzte Woche bestellte ich eine Optimus Prime Action Figur aus Ihrem Online-Shop in Deutschland. Unfortunately, als ich das Paket öffnete, entdeckte ich zu meinem Horror-Hut hatte ich eine Action Figur von Megatron instedad geschickt worden! Als lebenslanger Feind der Täuschungen, Ich hoffe, Sie können mein Dilemma verstehen. Um das Problem zu lösen, Ich fordere einen Austausch von Megatron von der Optimus Prime Figur bestellte ich. Angeschlossen sind Kopien meiner Aufzeichnungen über diesen Kauf. Ich erwarte, von Ihnen bald zu hören. Aufrichtig, Bumblebee.\n"
     ]
    }
   ],
   "source": [
    "translator = pipeline('translation_en_to_de',\n",
    "                     model='Helsinki-NLP/opus-mt-en-de')\n",
    "\n",
    "outputs = translator(text, clean_up_tokenization_spaces=True, min_length=100)\n",
    "print(outputs[0]['translation_text'])"
   ]
  },
  {
   "cell_type": "code",
   "execution_count": 17,
   "id": "08db31d8",
   "metadata": {},
   "outputs": [
    {
     "data": {
      "text/plain": [
       "[{'translation_text': 'Liebe Amazon, letzte Woche bestellte ich eine Optimus Prime Action Figur aus Ihrem Online-Shop in Deutschland. Unfortunately, als ich das Paket öffnete, entdeckte ich zu meinem Horror-Hut hatte ich eine Action Figur von Megatron instedad geschickt worden! Als lebenslanger Feind der Täuschungen, Ich hoffe, Sie können mein Dilemma verstehen. Um das Problem zu lösen, Ich fordere einen Austausch von Megatron von der Optimus Prime Figur bestellte ich. Angeschlossen sind Kopien meiner Aufzeichnungen über diesen Kauf. Ich erwarte, von Ihnen bald zu hören. Aufrichtig, Bumblebee.'}]"
      ]
     },
     "execution_count": 17,
     "metadata": {},
     "output_type": "execute_result"
    }
   ],
   "source": [
    "outputs"
   ]
  },
  {
   "cell_type": "code",
   "execution_count": null,
   "id": "8c47e269",
   "metadata": {},
   "outputs": [],
   "source": []
  },
  {
   "cell_type": "markdown",
   "id": "979b29c6",
   "metadata": {},
   "source": [
    "    - 파이프라인의 기본 모델을 오버라이드(override)해서 애플리케이션에 가장 잘 맞는 모델 선택"
   ]
  },
  {
   "cell_type": "markdown",
   "id": "15229015",
   "metadata": {},
   "source": [
    "## 6. 텍스트 생성"
   ]
  },
  {
   "cell_type": "code",
   "execution_count": 18,
   "id": "cad4c76d",
   "metadata": {},
   "outputs": [
    {
     "name": "stderr",
     "output_type": "stream",
     "text": [
      "No model was supplied, defaulted to gpt2 (https://huggingface.co/gpt2)\n"
     ]
    },
    {
     "data": {
      "application/vnd.jupyter.widget-view+json": {
       "model_id": "66981a46374647e683ac70d9e84264fb",
       "version_major": 2,
       "version_minor": 0
      },
      "text/plain": [
       "Downloading:   0%|          | 0.00/665 [00:00<?, ?B/s]"
      ]
     },
     "metadata": {},
     "output_type": "display_data"
    },
    {
     "data": {
      "application/vnd.jupyter.widget-view+json": {
       "model_id": "f3608d7b9e514c36a38a5c2daec1f1b0",
       "version_major": 2,
       "version_minor": 0
      },
      "text/plain": [
       "Downloading:   0%|          | 0.00/523M [00:00<?, ?B/s]"
      ]
     },
     "metadata": {},
     "output_type": "display_data"
    },
    {
     "data": {
      "application/vnd.jupyter.widget-view+json": {
       "model_id": "16faf1424ed54dc58d3dbc7e2ec82221",
       "version_major": 2,
       "version_minor": 0
      },
      "text/plain": [
       "Downloading:   0%|          | 0.00/0.99M [00:00<?, ?B/s]"
      ]
     },
     "metadata": {},
     "output_type": "display_data"
    },
    {
     "data": {
      "application/vnd.jupyter.widget-view+json": {
       "model_id": "8c8a2e74876d4bc6a71ec767448c1505",
       "version_major": 2,
       "version_minor": 0
      },
      "text/plain": [
       "Downloading:   0%|          | 0.00/446k [00:00<?, ?B/s]"
      ]
     },
     "metadata": {},
     "output_type": "display_data"
    },
    {
     "data": {
      "application/vnd.jupyter.widget-view+json": {
       "model_id": "d8fb61f3eb7c49a79fc0eaee8a83f61d",
       "version_major": 2,
       "version_minor": 0
      },
      "text/plain": [
       "Downloading:   0%|          | 0.00/1.29M [00:00<?, ?B/s]"
      ]
     },
     "metadata": {},
     "output_type": "display_data"
    },
    {
     "name": "stderr",
     "output_type": "stream",
     "text": [
      "Setting `pad_token_id` to `eos_token_id`:50256 for open-end generation.\n"
     ]
    },
    {
     "name": "stdout",
     "output_type": "stream",
     "text": [
      "Dear Amazon, last week I ordered an Optimus Prime action figure from your online store in Germany.\n",
      "unFortunately, when I opened the package, I discovered to my horror hat I had been sent an action figure of Megatron instedad!\n",
      "As a lifelong enemy of the Deceptions, I hope you can understand my dilemma. To resolve the issue, \n",
      "I demand an exchange of Megatron ofr the Optimus Prime figure I ordered.\n",
      "Enclosed are copies of my records concerning this purchase. I expect to hear from you soon.\n",
      "Sincerly, Bumblebee.\n",
      "\n",
      "Customer service response:\n",
      "Dear Bumblebee, I am sorrty to hear that your order was mixed up.\n",
      "\n",
      "I was thinking of asking about the Transformers figures.\n",
      "\n",
      "You are an excellent source for the Optimus Prime action figure.\n",
      "\n",
      "But the one figure your mailer is selling is a re-print.\n",
      "\n",
      "Doesn't matter what model was the original\n"
     ]
    }
   ],
   "source": [
    "generator = pipeline('text-generation')\n",
    "response = 'Dear Bumblebee, I am sorrty to hear that your order was mixed up.'\n",
    "prompt = text + '\\n\\nCustomer service response:\\n' + response\n",
    "outputs = generator(prompt, max_length=200)\n",
    "print(outputs[0]['generated_text'])"
   ]
  },
  {
   "cell_type": "code",
   "execution_count": 19,
   "id": "50f79f39",
   "metadata": {},
   "outputs": [
    {
     "data": {
      "text/plain": [
       "[{'generated_text': \"Dear Amazon, last week I ordered an Optimus Prime action figure from your online store in Germany.\\nunFortunately, when I opened the package, I discovered to my horror hat I had been sent an action figure of Megatron instedad!\\nAs a lifelong enemy of the Deceptions, I hope you can understand my dilemma. To resolve the issue, \\nI demand an exchange of Megatron ofr the Optimus Prime figure I ordered.\\nEnclosed are copies of my records concerning this purchase. I expect to hear from you soon.\\nSincerly, Bumblebee.\\n\\nCustomer service response:\\nDear Bumblebee, I am sorrty to hear that your order was mixed up.\\n\\nI was thinking of asking about the Transformers figures.\\n\\nYou are an excellent source for the Optimus Prime action figure.\\n\\nBut the one figure your mailer is selling is a re-print.\\n\\nDoesn't matter what model was the original\"}]"
      ]
     },
     "execution_count": 19,
     "metadata": {},
     "output_type": "execute_result"
    }
   ],
   "source": [
    "outputs"
   ]
  },
  {
   "cell_type": "code",
   "execution_count": null,
   "id": "285ed8b0",
   "metadata": {},
   "outputs": [],
   "source": []
  }
 ],
 "metadata": {
  "kernelspec": {
   "display_name": "Python 3 (ipykernel)",
   "language": "python",
   "name": "python3"
  },
  "language_info": {
   "codemirror_mode": {
    "name": "ipython",
    "version": 3
   },
   "file_extension": ".py",
   "mimetype": "text/x-python",
   "name": "python",
   "nbconvert_exporter": "python",
   "pygments_lexer": "ipython3",
   "version": "3.9.12"
  }
 },
 "nbformat": 4,
 "nbformat_minor": 5
}
