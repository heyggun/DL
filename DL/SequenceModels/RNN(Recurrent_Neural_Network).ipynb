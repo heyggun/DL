{
 "cells": [
  {
   "cell_type": "markdown",
   "id": "3036f474",
   "metadata": {},
   "source": [
    "# RNN(Recurrent Neural Network)"
   ]
  },
  {
   "cell_type": "markdown",
   "id": "40972931",
   "metadata": {},
   "source": [
    "## `keras로 RNN 구현`"
   ]
  },
  {
   "cell_type": "code",
   "execution_count": 1,
   "id": "dcf40bd4",
   "metadata": {},
   "outputs": [],
   "source": [
    "from tensorflow.keras.models import Sequential\n",
    "from tensorflow.keras.layers import SimpleRNN"
   ]
  },
  {
   "cell_type": "code",
   "execution_count": 4,
   "id": "6d074b09",
   "metadata": {},
   "outputs": [
    {
     "name": "stdout",
     "output_type": "stream",
     "text": [
      "Model: \"sequential_1\"\n",
      "_________________________________________________________________\n",
      " Layer (type)                Output Shape              Param #   \n",
      "=================================================================\n",
      " simple_rnn_1 (SimpleRNN)    (None, 3)                 42        \n",
      "                                                                 \n",
      "=================================================================\n",
      "Total params: 42\n",
      "Trainable params: 42\n",
      "Non-trainable params: 0\n",
      "_________________________________________________________________\n"
     ]
    }
   ],
   "source": [
    "model = Sequential()\n",
    "\n",
    "# hidden_units = 3 (메모리 셀이 다음 시점의 메모리 셀과 출력층으로 보내는 값의 크기)\n",
    "# input_shape = (timesteps, input_dim)  timesteps : 입력 시퀀스의 길이, 시점의 수 / input_dim : 입력의 크기\n",
    "model.add(SimpleRNN(3, input_shape=(2,10)))  \n",
    "#model.add(SimpleRNN(3, input_length=2, input_dim=10))\n",
    "model.summary()"
   ]
  },
  {
   "cell_type": "markdown",
   "id": "929e3e6b",
   "metadata": {},
   "source": [
    "    -> 출력값(batch_size, output_dim) 크기의 2D tensor 일때, output_dim은 hidden_units의 값 3"
   ]
  },
  {
   "cell_type": "code",
   "execution_count": 5,
   "id": "11389255",
   "metadata": {},
   "outputs": [
    {
     "name": "stdout",
     "output_type": "stream",
     "text": [
      "Model: \"sequential_2\"\n",
      "_________________________________________________________________\n",
      " Layer (type)                Output Shape              Param #   \n",
      "=================================================================\n",
      " simple_rnn_2 (SimpleRNN)    (8, 3)                    42        \n",
      "                                                                 \n",
      "=================================================================\n",
      "Total params: 42\n",
      "Trainable params: 42\n",
      "Non-trainable params: 0\n",
      "_________________________________________________________________\n"
     ]
    }
   ],
   "source": [
    "model = Sequential()\n",
    "model.add(SimpleRNN(3, batch_input_shape=(8,2,10)))\n",
    "model.summary()"
   ]
  },
  {
   "cell_type": "markdown",
   "id": "04686615",
   "metadata": {},
   "source": [
    "    -> batch_size 8로 기재, 출력의 크기 (8,3)"
   ]
  },
  {
   "cell_type": "code",
   "execution_count": 7,
   "id": "7cad1e53",
   "metadata": {},
   "outputs": [
    {
     "name": "stdout",
     "output_type": "stream",
     "text": [
      "Model: \"sequential_4\"\n",
      "_________________________________________________________________\n",
      " Layer (type)                Output Shape              Param #   \n",
      "=================================================================\n",
      " simple_rnn_3 (SimpleRNN)    (8, 2, 3)                 42        \n",
      "                                                                 \n",
      "=================================================================\n",
      "Total params: 42\n",
      "Trainable params: 42\n",
      "Non-trainable params: 0\n",
      "_________________________________________________________________\n"
     ]
    }
   ],
   "source": [
    "model = Sequential()\n",
    "model.add(SimpleRNN(3, batch_input_shape=(8,2,10), return_sequences=True))\n",
    "model.summary()"
   ]
  },
  {
   "cell_type": "markdown",
   "id": "ff6ef755",
   "metadata": {},
   "source": [
    "    -> batch_size, timesteps, output_dim 크기의 3D tensor"
   ]
  },
  {
   "cell_type": "code",
   "execution_count": null,
   "id": "26834669",
   "metadata": {},
   "outputs": [],
   "source": []
  },
  {
   "cell_type": "markdown",
   "id": "b708f204",
   "metadata": {},
   "source": [
    "## `Python의 Numpy로 RNN 구현`"
   ]
  },
  {
   "attachments": {
    "image.png": {
     "image/png": "[encoded data removed]"
    }
   },
   "cell_type": "markdown",
   "id": "728960ca",
   "metadata": {},
   "source": [
    "![image.png](attachment:image.png)"
   ]
  },
  {
   "cell_type": "code",
   "execution_count": 8,
   "id": "2364ab00",
   "metadata": {},
   "outputs": [],
   "source": [
    "import numpy as np"
   ]
  },
  {
   "cell_type": "code",
   "execution_count": 20,
   "id": "e75d71df",
   "metadata": {},
   "outputs": [
    {
     "name": "stdout",
     "output_type": "stream",
     "text": [
      "초기 은닉 상태 -> [0. 0. 0. 0. 0. 0. 0. 0.]\n",
      " 가중치 Wx -> (8, 4)\n",
      " 가중치 Wh -> (8, 8)\n",
      " 편향 b -> (8,)\n",
      " 모든 시점의 hidden states = \n",
      " [[0.72142611 0.89115199 0.68385193 0.84210824 0.93933851 0.85704589\n",
      "  0.90456349 0.78545465]\n",
      " [0.99997748 0.99998437 0.99956839 0.9997046  0.99991349 0.99994163\n",
      "  0.99991812 0.99998583]\n",
      " [0.99999249 0.99999042 0.99989187 0.99994518 0.99990426 0.99998244\n",
      "  0.99990207 0.99998696]\n",
      " [0.99999889 0.99999859 0.99997727 0.99997844 0.99999251 0.99999718\n",
      "  0.9999895  0.99999836]\n",
      " [0.99999763 0.9999957  0.9999407  0.99994209 0.99997428 0.99999399\n",
      "  0.99997107 0.99999671]\n",
      " [0.99999375 0.99999067 0.99982084 0.99982916 0.99993968 0.99998611\n",
      "  0.99995133 0.99999554]\n",
      " [0.99999835 0.99999496 0.99995066 0.99993855 0.99997083 0.99999505\n",
      "  0.99996443 0.99999665]\n",
      " [0.99999378 0.99999411 0.99989996 0.99990501 0.99993317 0.99997949\n",
      "  0.99994141 0.99999461]\n",
      " [0.99999759 0.99999434 0.99993618 0.99987291 0.99994622 0.99998843\n",
      "  0.99994714 0.9999969 ]\n",
      " [0.99999869 0.99999805 0.99997408 0.99995694 0.99998308 0.99999413\n",
      "  0.99997929 0.99999817]]\n"
     ]
    }
   ],
   "source": [
    "timesteps, input_dim, hidden_units= 10, 4,8\n",
    "\n",
    "# input 2d tensor\n",
    "inputs = np.random.random((timesteps, input_dim))\n",
    "\n",
    "# 초기 은닉상태 0 vector\n",
    "\n",
    "hidden_state_t = np.zeros((hidden_units))\n",
    "\n",
    "print(f\"초기 은닉 상태 -> {hidden_state_t}\")\n",
    "\n",
    "Wx = np.random.random((hidden_units, input_dim))   # (8,4) 크기의 2d tensor, input에 대한 weight\n",
    "Wh = np.random.random((hidden_units, hidden_units)) # (8,8) 크기의 2d tensor, hidden state에 대한 weight\n",
    "b = np.random.random((hidden_units, )) #(8,) 크기의 1d tensor, bias\n",
    "\n",
    "print(f\" 가중치 Wx -> {np.shape(Wx)}\")\n",
    "print(f\" 가중치 Wh -> {np.shape(Wh)}\")\n",
    "print(f\" 편향 b -> {np.shape(b)}\")\n",
    "\n",
    "\n",
    "total_hidden_states = []\n",
    "\n",
    "# 각 timesteps 간 input\n",
    "\n",
    "for input_t in inputs:\n",
    "    \n",
    "    # Wx * Xt + Wh * Ht-1 + b\n",
    "    output_t = np.tanh(np.dot(Wx, input_t) + np.dot(Wh, hidden_state_t)+b)\n",
    "    \n",
    "    # 각 시점 t별 메모리 셀의 출력의 크기 (timestep t, ouput_dim)\n",
    "    # 각 시점의 은닉 상태를 계속해서 누적\n",
    "    total_hidden_states.append(list(output_t))\n",
    "    hidden_state_t = output_t\n",
    "    \n",
    "# 출력 시 값을 깔끔하게 함\n",
    "total_hidden_states= np.stack(total_hidden_states, axis=0)\n",
    "\n",
    "\n",
    "#모든 시점의 은닉상태\n",
    "print(f\" 모든 시점의 hidden states = \\n {total_hidden_states}\")\n",
    "    "
   ]
  },
  {
   "cell_type": "code",
   "execution_count": null,
   "id": "907bffdd",
   "metadata": {},
   "outputs": [],
   "source": []
  },
  {
   "cell_type": "code",
   "execution_count": null,
   "id": "318d8214",
   "metadata": {},
   "outputs": [],
   "source": []
  },
  {
   "cell_type": "markdown",
   "id": "0e5db356",
   "metadata": {},
   "source": [
    "# Q.\n",
    "\n",
    "    단어 집합(Vocabulary)의 크기가 5,000이고 임베딩 벡터의 차원은 100이다.\n",
    "    은닉층에서는 Simple RNN으로 은닉 상태의 크기는 128이고, 은닉층은 1개이다.\n",
    "    훈련에 사용하는 모든 샘플의 길이는 30으로 가정할 때, \n",
    "    이진 분류를 수행하는 모델로, 출력층의 뉴런은 1개로 시그모이드 함수를 사용할때의 RNN 모델 구현 및 parameter 개수?\n"
   ]
  },
  {
   "cell_type": "code",
   "execution_count": 22,
   "id": "2bba3e0e",
   "metadata": {},
   "outputs": [],
   "source": [
    "from tensorflow.keras.models import Sequential\n",
    "from tensorflow.keras.layers import SimpleRNN, Embedding, Dense"
   ]
  },
  {
   "cell_type": "code",
   "execution_count": 27,
   "id": "1abbb7dd",
   "metadata": {},
   "outputs": [
    {
     "name": "stdout",
     "output_type": "stream",
     "text": [
      "Model: \"sequential_5\"\n",
      "_________________________________________________________________\n",
      " Layer (type)                Output Shape              Param #   \n",
      "=================================================================\n",
      " embedding (Embedding)       (None, None, 100)         500000    \n",
      "                                                                 \n",
      " simple_rnn_4 (SimpleRNN)    (None, 128)               29312     \n",
      "                                                                 \n",
      " dense (Dense)               (None, 1)                 129       \n",
      "                                                                 \n",
      "=================================================================\n",
      "Total params: 529,441\n",
      "Trainable params: 529,441\n",
      "Non-trainable params: 0\n",
      "_________________________________________________________________\n"
     ]
    }
   ],
   "source": [
    "vocab_size = 5000\n",
    "embedding_dim = 100\n",
    "hidden_size =128\n",
    "\n",
    "model = Sequential()\n",
    "model.add(Embedding(vocab_size, embedding_dim))\n",
    "model.add(SimpleRNN(hidden_size))\n",
    "model.add(Dense(1, activation='sigmoid'))\n",
    "model.summary()"
   ]
  },
  {
   "cell_type": "code",
   "execution_count": null,
   "id": "587e4b4a",
   "metadata": {},
   "outputs": [],
   "source": []
  }
 ],
 "metadata": {
  "kernelspec": {
   "display_name": "Python 3 (ipykernel)",
   "language": "python",
   "name": "python3"
  },
  "language_info": {
   "codemirror_mode": {
    "name": "ipython",
    "version": 3
   },
   "file_extension": ".py",
   "mimetype": "text/x-python",
   "name": "python",
   "nbconvert_exporter": "python",
   "pygments_lexer": "ipython3",
   "version": "3.9.12"
  }
 },
 "nbformat": 4,
 "nbformat_minor": 5
}
