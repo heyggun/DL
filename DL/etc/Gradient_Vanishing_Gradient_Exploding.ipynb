{
 "cells": [
  {
   "cell_type": "markdown",
   "id": "7ad106b0",
   "metadata": {},
   "source": [
    "## Gradient Clipping\n",
    "\n",
    "    - 기울기 값을 자르는 것\n",
    "    - 기울기 폭주(Gradient Exploding)을 막기 위해 임계값을 넘지 않도록 값을 자름\n",
    "    - 임계치만큼 크기를 감소 시킴 \n",
    "    - RNN 에서 유용한데, 역전파 과정에서 시점을 역행하면서 기울기를 구하는데, 이 때 기울기가 너무 커질 수 있기 때문"
   ]
  },
  {
   "cell_type": "code",
   "execution_count": 1,
   "id": "4f6ff511",
   "metadata": {},
   "outputs": [],
   "source": [
    "from tensorflow.keras import optimizers"
   ]
  },
  {
   "cell_type": "code",
   "execution_count": 3,
   "id": "8a1ffa44",
   "metadata": {},
   "outputs": [
    {
     "name": "stderr",
     "output_type": "stream",
     "text": [
      "C:\\Users\\PC\\AppData\\Roaming\\Python\\Python39\\site-packages\\keras\\optimizers\\optimizer_v2\\adam.py:114: UserWarning: The `lr` argument is deprecated, use `learning_rate` instead.\n",
      "  super().__init__(name, **kwargs)\n"
     ]
    }
   ],
   "source": [
    "Adam = optimizers.Adam(lr=0.0001, clipnorm=1.)"
   ]
  },
  {
   "cell_type": "code",
   "execution_count": null,
   "id": "afb1e069",
   "metadata": {},
   "outputs": [],
   "source": []
  }
 ],
 "metadata": {
  "kernelspec": {
   "display_name": "Python 3 (ipykernel)",
   "language": "python",
   "name": "python3"
  },
  "language_info": {
   "codemirror_mode": {
    "name": "ipython",
    "version": 3
   },
   "file_extension": ".py",
   "mimetype": "text/x-python",
   "name": "python",
   "nbconvert_exporter": "python",
   "pygments_lexer": "ipython3",
   "version": "3.9.12"
  }
 },
 "nbformat": 4,
 "nbformat_minor": 5
}
